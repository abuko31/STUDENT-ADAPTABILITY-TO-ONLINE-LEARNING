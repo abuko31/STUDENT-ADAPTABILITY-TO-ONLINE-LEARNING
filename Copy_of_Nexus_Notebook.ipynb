{
  "nbformat": 4,
  "nbformat_minor": 0,
  "metadata": {
    "colab": {
      "name": "Copy of Nexus Notebook.ipynb",
      "provenance": [],
      "collapsed_sections": []
    },
    "kernelspec": {
      "name": "python3",
      "display_name": "Python 3"
    },
    "language_info": {
      "name": "python"
    }
  },
  "cells": [
    {
      "cell_type": "markdown",
      "source": [
        "**STUDENT ADAPTABILITY TO ONLINE LEARNING**"
      ],
      "metadata": {
        "id": "GsWDeS6-NmtW"
      }
    },
    {
      "cell_type": "markdown",
      "source": [
        "##1.0 Introduction"
      ],
      "metadata": {
        "id": "A7UDh_4-HJCa"
      }
    },
    {
      "cell_type": "markdown",
      "source": [
        "### A) Introduction"
      ],
      "metadata": {
        "id": "mB6b1DCjV8e1"
      }
    },
    {
      "cell_type": "markdown",
      "source": [
        "With the unexpected breakout of COVID-19 in 2020 came the need to improve online systems in virtually every sector that involves physical human interaction, which includes the education sector. \n",
        "\n",
        "Having more educational institutions providing online options has had many benefits, such as saving on transportation costs and removing location as a barrier to accessing a program, to name a few. A survey undertaken by Wiley Education Services showed that 85% of students liked the flexibility of online learning. Despite these benefits, online learning has its challenges, such as power outages and lack of good internet connection. There are therefore factors that influence whether a student adapts well to an online program, and our study aims to analyze some of these factors.\n"
      ],
      "metadata": {
        "id": "ugezW63zWIWf"
      }
    },
    {
      "cell_type": "markdown",
      "source": [
        "### B) Problem Statement"
      ],
      "metadata": {
        "id": "MME3pdKDW4YC"
      }
    },
    {
      "cell_type": "markdown",
      "source": [
        "Online learning is becoming a new normal in our society. Low levels of adaptability to it can lead to a drop in performance, feeling unmotivated, and falling behind in coursework. Therefore it is important to identify factors that highly influence a student's adaptability level.\n"
      ],
      "metadata": {
        "id": "ao7QT246XLSC"
      }
    },
    {
      "cell_type": "markdown",
      "source": [
        "### C) Defining the question"
      ],
      "metadata": {
        "id": "ENHdy84QXS7o"
      }
    },
    {
      "cell_type": "markdown",
      "source": [
        " Our aim is to analyse and identify the factors that have a major influence on how well a student adapts to online learning, as these insights will help educational institutions come up with better strategies for implementing their online programs."
      ],
      "metadata": {
        "id": "ZA20bUd8XnhX"
      }
    },
    {
      "cell_type": "markdown",
      "source": [
        "### D) Metric of Success"
      ],
      "metadata": {
        "id": "RdU5RkHjXtTf"
      }
    },
    {
      "cell_type": "markdown",
      "source": [
        "\n",
        "\n",
        "*   Identify the features that most affect a student's adaptability to online learning\n",
        "\n",
        "\n",
        "*   Determine how the frequencies of the levels of adaptability selected vary according to the different features (for example adaptability by different genders, institution types etc).\n",
        "\n",
        "*   Determine the most common values of the different features that were chosen by respondents (such as most common institution type, financial condition etc).\n",
        "\n",
        "* Show how the various characteristics being analyzed (such as age, gender, location, adaptability level etc) correlate with each other.\n",
        "\n",
        "\n",
        "*   Determine if there is a statistically significant relationship between the features gender and financial condition.\n",
        "\n",
        "\n",
        "\n",
        "\n",
        "\n",
        "\n"
      ],
      "metadata": {
        "id": "1L4cT2lMXzML"
      }
    },
    {
      "cell_type": "markdown",
      "source": [
        "### E) Analysis Steps\n",
        "\n"
      ],
      "metadata": {
        "id": "yCiZi4Mrb5TW"
      }
    },
    {
      "cell_type": "markdown",
      "source": [
        "1. Defining the research objectives.\n",
        "2. Loading and cleaning the dataset.\n",
        "3. Perform univariate, bivariate and multivariate analysis on the data and recording our observations.\n",
        "4. Performing hypothesis testing.\n",
        "5. Documentation of all the steps via a report"
      ],
      "metadata": {
        "id": "YkuRsI7Vb_TK"
      }
    },
    {
      "cell_type": "markdown",
      "source": [
        "## 2.0  Loading the data"
      ],
      "metadata": {
        "id": "m9Lewso5NwKx"
      }
    },
    {
      "cell_type": "code",
      "source": [
        "# Importing the necessary libraries\n",
        "import pandas as pd\n",
        "import numpy as np\n",
        "import seaborn as sns\n",
        "from matplotlib import pyplot\n",
        "import matplotlib.pyplot as plt\n",
        "%matplotlib inline\n",
        "from scipy import stats\n"
      ],
      "metadata": {
        "id": "lB2FuZgKOKae"
      },
      "execution_count": null,
      "outputs": []
    },
    {
      "cell_type": "code",
      "source": [
        "# Loading the data\n",
        "students = pd.read_csv('students.csv')\n"
      ],
      "metadata": {
        "id": "8kDFtbIWOQdx"
      },
      "execution_count": null,
      "outputs": []
    },
    {
      "cell_type": "markdown",
      "source": [
        "## 3.0  Checking and preparing the data"
      ],
      "metadata": {
        "id": "ayfOaKBTR8O0"
      }
    },
    {
      "cell_type": "code",
      "source": [
        "# SIZE\n",
        "print('This dataset has ' + str(students.shape[0]) + ' rows, and ' + str(students.shape[1]) + ' columns')"
      ],
      "metadata": {
        "colab": {
          "base_uri": "https://localhost:8080/"
        },
        "id": "97U2IA_mPtdU",
        "outputId": "e734ca63-2121-4e13-a4f9-88d5e4ce55ea"
      },
      "execution_count": null,
      "outputs": [
        {
          "output_type": "stream",
          "name": "stdout",
          "text": [
            "This dataset has 1205 rows, and 14 columns\n"
          ]
        }
      ]
    },
    {
      "cell_type": "code",
      "source": [
        "# A Glimpse\n",
        "students.head()"
      ],
      "metadata": {
        "colab": {
          "base_uri": "https://localhost:8080/",
          "height": 206
        },
        "id": "_R3VstpGSVzz",
        "outputId": "b6f820f5-671e-4995-8767-886c8745f25e"
      },
      "execution_count": null,
      "outputs": [
        {
          "output_type": "execute_result",
          "data": {
            "text/plain": [
              "  Gender    Age Education Level Institution Type IT Student Location  \\\n",
              "0    Boy  21-25      University   Non Government         No      Yes   \n",
              "1   Girl  21-25      University   Non Government         No      Yes   \n",
              "2   Girl  16-20         College       Government         No      Yes   \n",
              "3   Girl  11-15          School   Non Government         No      Yes   \n",
              "4   Girl  16-20          School   Non Government         No      Yes   \n",
              "\n",
              "  Load-shedding Financial Condition Internet Type Network Type Class Duration  \\\n",
              "0           Low                 Mid          Wifi           4G            3-6   \n",
              "1          High                 Mid   Mobile Data           4G            1-3   \n",
              "2           Low                 Mid          Wifi           4G            1-3   \n",
              "3           Low                 Mid   Mobile Data           4G            1-3   \n",
              "4           Low                Poor   Mobile Data           3G              0   \n",
              "\n",
              "  Self Lms  Device Adaptivity Level  \n",
              "0       No     Tab         Moderate  \n",
              "1      Yes  Mobile         Moderate  \n",
              "2       No  Mobile         Moderate  \n",
              "3       No  Mobile         Moderate  \n",
              "4       No  Mobile              Low  "
            ],
            "text/html": [
              "\n",
              "  <div id=\"df-bc4a77b1-9725-45dd-ad2f-b406fe679cc9\">\n",
              "    <div class=\"colab-df-container\">\n",
              "      <div>\n",
              "<style scoped>\n",
              "    .dataframe tbody tr th:only-of-type {\n",
              "        vertical-align: middle;\n",
              "    }\n",
              "\n",
              "    .dataframe tbody tr th {\n",
              "        vertical-align: top;\n",
              "    }\n",
              "\n",
              "    .dataframe thead th {\n",
              "        text-align: right;\n",
              "    }\n",
              "</style>\n",
              "<table border=\"1\" class=\"dataframe\">\n",
              "  <thead>\n",
              "    <tr style=\"text-align: right;\">\n",
              "      <th></th>\n",
              "      <th>Gender</th>\n",
              "      <th>Age</th>\n",
              "      <th>Education Level</th>\n",
              "      <th>Institution Type</th>\n",
              "      <th>IT Student</th>\n",
              "      <th>Location</th>\n",
              "      <th>Load-shedding</th>\n",
              "      <th>Financial Condition</th>\n",
              "      <th>Internet Type</th>\n",
              "      <th>Network Type</th>\n",
              "      <th>Class Duration</th>\n",
              "      <th>Self Lms</th>\n",
              "      <th>Device</th>\n",
              "      <th>Adaptivity Level</th>\n",
              "    </tr>\n",
              "  </thead>\n",
              "  <tbody>\n",
              "    <tr>\n",
              "      <th>0</th>\n",
              "      <td>Boy</td>\n",
              "      <td>21-25</td>\n",
              "      <td>University</td>\n",
              "      <td>Non Government</td>\n",
              "      <td>No</td>\n",
              "      <td>Yes</td>\n",
              "      <td>Low</td>\n",
              "      <td>Mid</td>\n",
              "      <td>Wifi</td>\n",
              "      <td>4G</td>\n",
              "      <td>3-6</td>\n",
              "      <td>No</td>\n",
              "      <td>Tab</td>\n",
              "      <td>Moderate</td>\n",
              "    </tr>\n",
              "    <tr>\n",
              "      <th>1</th>\n",
              "      <td>Girl</td>\n",
              "      <td>21-25</td>\n",
              "      <td>University</td>\n",
              "      <td>Non Government</td>\n",
              "      <td>No</td>\n",
              "      <td>Yes</td>\n",
              "      <td>High</td>\n",
              "      <td>Mid</td>\n",
              "      <td>Mobile Data</td>\n",
              "      <td>4G</td>\n",
              "      <td>1-3</td>\n",
              "      <td>Yes</td>\n",
              "      <td>Mobile</td>\n",
              "      <td>Moderate</td>\n",
              "    </tr>\n",
              "    <tr>\n",
              "      <th>2</th>\n",
              "      <td>Girl</td>\n",
              "      <td>16-20</td>\n",
              "      <td>College</td>\n",
              "      <td>Government</td>\n",
              "      <td>No</td>\n",
              "      <td>Yes</td>\n",
              "      <td>Low</td>\n",
              "      <td>Mid</td>\n",
              "      <td>Wifi</td>\n",
              "      <td>4G</td>\n",
              "      <td>1-3</td>\n",
              "      <td>No</td>\n",
              "      <td>Mobile</td>\n",
              "      <td>Moderate</td>\n",
              "    </tr>\n",
              "    <tr>\n",
              "      <th>3</th>\n",
              "      <td>Girl</td>\n",
              "      <td>11-15</td>\n",
              "      <td>School</td>\n",
              "      <td>Non Government</td>\n",
              "      <td>No</td>\n",
              "      <td>Yes</td>\n",
              "      <td>Low</td>\n",
              "      <td>Mid</td>\n",
              "      <td>Mobile Data</td>\n",
              "      <td>4G</td>\n",
              "      <td>1-3</td>\n",
              "      <td>No</td>\n",
              "      <td>Mobile</td>\n",
              "      <td>Moderate</td>\n",
              "    </tr>\n",
              "    <tr>\n",
              "      <th>4</th>\n",
              "      <td>Girl</td>\n",
              "      <td>16-20</td>\n",
              "      <td>School</td>\n",
              "      <td>Non Government</td>\n",
              "      <td>No</td>\n",
              "      <td>Yes</td>\n",
              "      <td>Low</td>\n",
              "      <td>Poor</td>\n",
              "      <td>Mobile Data</td>\n",
              "      <td>3G</td>\n",
              "      <td>0</td>\n",
              "      <td>No</td>\n",
              "      <td>Mobile</td>\n",
              "      <td>Low</td>\n",
              "    </tr>\n",
              "  </tbody>\n",
              "</table>\n",
              "</div>\n",
              "      <button class=\"colab-df-convert\" onclick=\"convertToInteractive('df-bc4a77b1-9725-45dd-ad2f-b406fe679cc9')\"\n",
              "              title=\"Convert this dataframe to an interactive table.\"\n",
              "              style=\"display:none;\">\n",
              "        \n",
              "  <svg xmlns=\"http://www.w3.org/2000/svg\" height=\"24px\"viewBox=\"0 0 24 24\"\n",
              "       width=\"24px\">\n",
              "    <path d=\"M0 0h24v24H0V0z\" fill=\"none\"/>\n",
              "    <path d=\"M18.56 5.44l.94 2.06.94-2.06 2.06-.94-2.06-.94-.94-2.06-.94 2.06-2.06.94zm-11 1L8.5 8.5l.94-2.06 2.06-.94-2.06-.94L8.5 2.5l-.94 2.06-2.06.94zm10 10l.94 2.06.94-2.06 2.06-.94-2.06-.94-.94-2.06-.94 2.06-2.06.94z\"/><path d=\"M17.41 7.96l-1.37-1.37c-.4-.4-.92-.59-1.43-.59-.52 0-1.04.2-1.43.59L10.3 9.45l-7.72 7.72c-.78.78-.78 2.05 0 2.83L4 21.41c.39.39.9.59 1.41.59.51 0 1.02-.2 1.41-.59l7.78-7.78 2.81-2.81c.8-.78.8-2.07 0-2.86zM5.41 20L4 18.59l7.72-7.72 1.47 1.35L5.41 20z\"/>\n",
              "  </svg>\n",
              "      </button>\n",
              "      \n",
              "  <style>\n",
              "    .colab-df-container {\n",
              "      display:flex;\n",
              "      flex-wrap:wrap;\n",
              "      gap: 12px;\n",
              "    }\n",
              "\n",
              "    .colab-df-convert {\n",
              "      background-color: #E8F0FE;\n",
              "      border: none;\n",
              "      border-radius: 50%;\n",
              "      cursor: pointer;\n",
              "      display: none;\n",
              "      fill: #1967D2;\n",
              "      height: 32px;\n",
              "      padding: 0 0 0 0;\n",
              "      width: 32px;\n",
              "    }\n",
              "\n",
              "    .colab-df-convert:hover {\n",
              "      background-color: #E2EBFA;\n",
              "      box-shadow: 0px 1px 2px rgba(60, 64, 67, 0.3), 0px 1px 3px 1px rgba(60, 64, 67, 0.15);\n",
              "      fill: #174EA6;\n",
              "    }\n",
              "\n",
              "    [theme=dark] .colab-df-convert {\n",
              "      background-color: #3B4455;\n",
              "      fill: #D2E3FC;\n",
              "    }\n",
              "\n",
              "    [theme=dark] .colab-df-convert:hover {\n",
              "      background-color: #434B5C;\n",
              "      box-shadow: 0px 1px 3px 1px rgba(0, 0, 0, 0.15);\n",
              "      filter: drop-shadow(0px 1px 2px rgba(0, 0, 0, 0.3));\n",
              "      fill: #FFFFFF;\n",
              "    }\n",
              "  </style>\n",
              "\n",
              "      <script>\n",
              "        const buttonEl =\n",
              "          document.querySelector('#df-bc4a77b1-9725-45dd-ad2f-b406fe679cc9 button.colab-df-convert');\n",
              "        buttonEl.style.display =\n",
              "          google.colab.kernel.accessAllowed ? 'block' : 'none';\n",
              "\n",
              "        async function convertToInteractive(key) {\n",
              "          const element = document.querySelector('#df-bc4a77b1-9725-45dd-ad2f-b406fe679cc9');\n",
              "          const dataTable =\n",
              "            await google.colab.kernel.invokeFunction('convertToInteractive',\n",
              "                                                     [key], {});\n",
              "          if (!dataTable) return;\n",
              "\n",
              "          const docLinkHtml = 'Like what you see? Visit the ' +\n",
              "            '<a target=\"_blank\" href=https://colab.research.google.com/notebooks/data_table.ipynb>data table notebook</a>'\n",
              "            + ' to learn more about interactive tables.';\n",
              "          element.innerHTML = '';\n",
              "          dataTable['output_type'] = 'display_data';\n",
              "          await google.colab.output.renderOutput(dataTable, element);\n",
              "          const docLink = document.createElement('div');\n",
              "          docLink.innerHTML = docLinkHtml;\n",
              "          element.appendChild(docLink);\n",
              "        }\n",
              "      </script>\n",
              "    </div>\n",
              "  </div>\n",
              "  "
            ]
          },
          "metadata": {},
          "execution_count": 9
        }
      ]
    },
    {
      "cell_type": "code",
      "source": [
        "students.tail()"
      ],
      "metadata": {
        "colab": {
          "base_uri": "https://localhost:8080/",
          "height": 206
        },
        "id": "dDUyf3JlSeH0",
        "outputId": "2344d56e-5445-4cad-b117-35a31a61f715"
      },
      "execution_count": null,
      "outputs": [
        {
          "output_type": "execute_result",
          "data": {
            "text/plain": [
              "     Gender    Age Education Level Institution Type IT Student Location  \\\n",
              "1200   Girl  16-20         College   Non Government         No      Yes   \n",
              "1201   Girl  16-20         College   Non Government         No       No   \n",
              "1202    Boy  11-15          School   Non Government         No      Yes   \n",
              "1203   Girl  16-20         College   Non Government         No       No   \n",
              "1204   Girl  11-15          School   Non Government         No      Yes   \n",
              "\n",
              "     Load-shedding Financial Condition Internet Type Network Type  \\\n",
              "1200           Low                 Mid          Wifi           4G   \n",
              "1201          High                 Mid          Wifi           4G   \n",
              "1202           Low                 Mid   Mobile Data           3G   \n",
              "1203           Low                 Mid          Wifi           4G   \n",
              "1204           Low                Poor   Mobile Data           3G   \n",
              "\n",
              "     Class Duration Self Lms  Device Adaptivity Level  \n",
              "1200            1-3       No  Mobile              Low  \n",
              "1201            3-6       No  Mobile         Moderate  \n",
              "1202            1-3       No  Mobile         Moderate  \n",
              "1203            1-3       No  Mobile              Low  \n",
              "1204            1-3       No  Mobile         Moderate  "
            ],
            "text/html": [
              "\n",
              "  <div id=\"df-f8c01088-9367-4649-8bc9-96d517203fff\">\n",
              "    <div class=\"colab-df-container\">\n",
              "      <div>\n",
              "<style scoped>\n",
              "    .dataframe tbody tr th:only-of-type {\n",
              "        vertical-align: middle;\n",
              "    }\n",
              "\n",
              "    .dataframe tbody tr th {\n",
              "        vertical-align: top;\n",
              "    }\n",
              "\n",
              "    .dataframe thead th {\n",
              "        text-align: right;\n",
              "    }\n",
              "</style>\n",
              "<table border=\"1\" class=\"dataframe\">\n",
              "  <thead>\n",
              "    <tr style=\"text-align: right;\">\n",
              "      <th></th>\n",
              "      <th>Gender</th>\n",
              "      <th>Age</th>\n",
              "      <th>Education Level</th>\n",
              "      <th>Institution Type</th>\n",
              "      <th>IT Student</th>\n",
              "      <th>Location</th>\n",
              "      <th>Load-shedding</th>\n",
              "      <th>Financial Condition</th>\n",
              "      <th>Internet Type</th>\n",
              "      <th>Network Type</th>\n",
              "      <th>Class Duration</th>\n",
              "      <th>Self Lms</th>\n",
              "      <th>Device</th>\n",
              "      <th>Adaptivity Level</th>\n",
              "    </tr>\n",
              "  </thead>\n",
              "  <tbody>\n",
              "    <tr>\n",
              "      <th>1200</th>\n",
              "      <td>Girl</td>\n",
              "      <td>16-20</td>\n",
              "      <td>College</td>\n",
              "      <td>Non Government</td>\n",
              "      <td>No</td>\n",
              "      <td>Yes</td>\n",
              "      <td>Low</td>\n",
              "      <td>Mid</td>\n",
              "      <td>Wifi</td>\n",
              "      <td>4G</td>\n",
              "      <td>1-3</td>\n",
              "      <td>No</td>\n",
              "      <td>Mobile</td>\n",
              "      <td>Low</td>\n",
              "    </tr>\n",
              "    <tr>\n",
              "      <th>1201</th>\n",
              "      <td>Girl</td>\n",
              "      <td>16-20</td>\n",
              "      <td>College</td>\n",
              "      <td>Non Government</td>\n",
              "      <td>No</td>\n",
              "      <td>No</td>\n",
              "      <td>High</td>\n",
              "      <td>Mid</td>\n",
              "      <td>Wifi</td>\n",
              "      <td>4G</td>\n",
              "      <td>3-6</td>\n",
              "      <td>No</td>\n",
              "      <td>Mobile</td>\n",
              "      <td>Moderate</td>\n",
              "    </tr>\n",
              "    <tr>\n",
              "      <th>1202</th>\n",
              "      <td>Boy</td>\n",
              "      <td>11-15</td>\n",
              "      <td>School</td>\n",
              "      <td>Non Government</td>\n",
              "      <td>No</td>\n",
              "      <td>Yes</td>\n",
              "      <td>Low</td>\n",
              "      <td>Mid</td>\n",
              "      <td>Mobile Data</td>\n",
              "      <td>3G</td>\n",
              "      <td>1-3</td>\n",
              "      <td>No</td>\n",
              "      <td>Mobile</td>\n",
              "      <td>Moderate</td>\n",
              "    </tr>\n",
              "    <tr>\n",
              "      <th>1203</th>\n",
              "      <td>Girl</td>\n",
              "      <td>16-20</td>\n",
              "      <td>College</td>\n",
              "      <td>Non Government</td>\n",
              "      <td>No</td>\n",
              "      <td>No</td>\n",
              "      <td>Low</td>\n",
              "      <td>Mid</td>\n",
              "      <td>Wifi</td>\n",
              "      <td>4G</td>\n",
              "      <td>1-3</td>\n",
              "      <td>No</td>\n",
              "      <td>Mobile</td>\n",
              "      <td>Low</td>\n",
              "    </tr>\n",
              "    <tr>\n",
              "      <th>1204</th>\n",
              "      <td>Girl</td>\n",
              "      <td>11-15</td>\n",
              "      <td>School</td>\n",
              "      <td>Non Government</td>\n",
              "      <td>No</td>\n",
              "      <td>Yes</td>\n",
              "      <td>Low</td>\n",
              "      <td>Poor</td>\n",
              "      <td>Mobile Data</td>\n",
              "      <td>3G</td>\n",
              "      <td>1-3</td>\n",
              "      <td>No</td>\n",
              "      <td>Mobile</td>\n",
              "      <td>Moderate</td>\n",
              "    </tr>\n",
              "  </tbody>\n",
              "</table>\n",
              "</div>\n",
              "      <button class=\"colab-df-convert\" onclick=\"convertToInteractive('df-f8c01088-9367-4649-8bc9-96d517203fff')\"\n",
              "              title=\"Convert this dataframe to an interactive table.\"\n",
              "              style=\"display:none;\">\n",
              "        \n",
              "  <svg xmlns=\"http://www.w3.org/2000/svg\" height=\"24px\"viewBox=\"0 0 24 24\"\n",
              "       width=\"24px\">\n",
              "    <path d=\"M0 0h24v24H0V0z\" fill=\"none\"/>\n",
              "    <path d=\"M18.56 5.44l.94 2.06.94-2.06 2.06-.94-2.06-.94-.94-2.06-.94 2.06-2.06.94zm-11 1L8.5 8.5l.94-2.06 2.06-.94-2.06-.94L8.5 2.5l-.94 2.06-2.06.94zm10 10l.94 2.06.94-2.06 2.06-.94-2.06-.94-.94-2.06-.94 2.06-2.06.94z\"/><path d=\"M17.41 7.96l-1.37-1.37c-.4-.4-.92-.59-1.43-.59-.52 0-1.04.2-1.43.59L10.3 9.45l-7.72 7.72c-.78.78-.78 2.05 0 2.83L4 21.41c.39.39.9.59 1.41.59.51 0 1.02-.2 1.41-.59l7.78-7.78 2.81-2.81c.8-.78.8-2.07 0-2.86zM5.41 20L4 18.59l7.72-7.72 1.47 1.35L5.41 20z\"/>\n",
              "  </svg>\n",
              "      </button>\n",
              "      \n",
              "  <style>\n",
              "    .colab-df-container {\n",
              "      display:flex;\n",
              "      flex-wrap:wrap;\n",
              "      gap: 12px;\n",
              "    }\n",
              "\n",
              "    .colab-df-convert {\n",
              "      background-color: #E8F0FE;\n",
              "      border: none;\n",
              "      border-radius: 50%;\n",
              "      cursor: pointer;\n",
              "      display: none;\n",
              "      fill: #1967D2;\n",
              "      height: 32px;\n",
              "      padding: 0 0 0 0;\n",
              "      width: 32px;\n",
              "    }\n",
              "\n",
              "    .colab-df-convert:hover {\n",
              "      background-color: #E2EBFA;\n",
              "      box-shadow: 0px 1px 2px rgba(60, 64, 67, 0.3), 0px 1px 3px 1px rgba(60, 64, 67, 0.15);\n",
              "      fill: #174EA6;\n",
              "    }\n",
              "\n",
              "    [theme=dark] .colab-df-convert {\n",
              "      background-color: #3B4455;\n",
              "      fill: #D2E3FC;\n",
              "    }\n",
              "\n",
              "    [theme=dark] .colab-df-convert:hover {\n",
              "      background-color: #434B5C;\n",
              "      box-shadow: 0px 1px 3px 1px rgba(0, 0, 0, 0.15);\n",
              "      filter: drop-shadow(0px 1px 2px rgba(0, 0, 0, 0.3));\n",
              "      fill: #FFFFFF;\n",
              "    }\n",
              "  </style>\n",
              "\n",
              "      <script>\n",
              "        const buttonEl =\n",
              "          document.querySelector('#df-f8c01088-9367-4649-8bc9-96d517203fff button.colab-df-convert');\n",
              "        buttonEl.style.display =\n",
              "          google.colab.kernel.accessAllowed ? 'block' : 'none';\n",
              "\n",
              "        async function convertToInteractive(key) {\n",
              "          const element = document.querySelector('#df-f8c01088-9367-4649-8bc9-96d517203fff');\n",
              "          const dataTable =\n",
              "            await google.colab.kernel.invokeFunction('convertToInteractive',\n",
              "                                                     [key], {});\n",
              "          if (!dataTable) return;\n",
              "\n",
              "          const docLinkHtml = 'Like what you see? Visit the ' +\n",
              "            '<a target=\"_blank\" href=https://colab.research.google.com/notebooks/data_table.ipynb>data table notebook</a>'\n",
              "            + ' to learn more about interactive tables.';\n",
              "          element.innerHTML = '';\n",
              "          dataTable['output_type'] = 'display_data';\n",
              "          await google.colab.output.renderOutput(dataTable, element);\n",
              "          const docLink = document.createElement('div');\n",
              "          docLink.innerHTML = docLinkHtml;\n",
              "          element.appendChild(docLink);\n",
              "        }\n",
              "      </script>\n",
              "    </div>\n",
              "  </div>\n",
              "  "
            ]
          },
          "metadata": {},
          "execution_count": 10
        }
      ]
    },
    {
      "cell_type": "code",
      "source": [
        "# General Description of the data\n",
        "students.info()"
      ],
      "metadata": {
        "colab": {
          "base_uri": "https://localhost:8080/"
        },
        "id": "cC4BzzqWSkuV",
        "outputId": "f85a7a38-9851-4456-acab-8643a5c1d471"
      },
      "execution_count": null,
      "outputs": [
        {
          "output_type": "stream",
          "name": "stdout",
          "text": [
            "<class 'pandas.core.frame.DataFrame'>\n",
            "RangeIndex: 1205 entries, 0 to 1204\n",
            "Data columns (total 14 columns):\n",
            " #   Column               Non-Null Count  Dtype \n",
            "---  ------               --------------  ----- \n",
            " 0   Gender               1205 non-null   object\n",
            " 1   Age                  1205 non-null   object\n",
            " 2   Education Level      1205 non-null   object\n",
            " 3   Institution Type     1205 non-null   object\n",
            " 4   IT Student           1205 non-null   object\n",
            " 5   Location             1205 non-null   object\n",
            " 6   Load-shedding        1205 non-null   object\n",
            " 7   Financial Condition  1205 non-null   object\n",
            " 8   Internet Type        1205 non-null   object\n",
            " 9   Network Type         1205 non-null   object\n",
            " 10  Class Duration       1205 non-null   object\n",
            " 11  Self Lms             1205 non-null   object\n",
            " 12  Device               1205 non-null   object\n",
            " 13  Adaptivity Level     1205 non-null   object\n",
            "dtypes: object(14)\n",
            "memory usage: 131.9+ KB\n"
          ]
        }
      ]
    },
    {
      "cell_type": "code",
      "source": [
        "# Removing whitespaces from the column names\n",
        "students.columns = students.columns.str.lower().str.replace(' ', '_')"
      ],
      "metadata": {
        "id": "qp-a0M9eTFXA"
      },
      "execution_count": null,
      "outputs": []
    },
    {
      "cell_type": "code",
      "source": [
        "# checking for missing values\n",
        "students.isnull().sum()"
      ],
      "metadata": {
        "colab": {
          "base_uri": "https://localhost:8080/"
        },
        "id": "w78Bz2ZGT9io",
        "outputId": "bf9d8a5c-cea0-4e83-8b55-621a92530368"
      },
      "execution_count": null,
      "outputs": [
        {
          "output_type": "execute_result",
          "data": {
            "text/plain": [
              "gender                 0\n",
              "age                    0\n",
              "education_level        0\n",
              "institution_type       0\n",
              "it_student             0\n",
              "location               0\n",
              "load-shedding          0\n",
              "financial_condition    0\n",
              "internet_type          0\n",
              "network_type           0\n",
              "class_duration         0\n",
              "self_lms               0\n",
              "device                 0\n",
              "adaptivity_level       0\n",
              "dtype: int64"
            ]
          },
          "metadata": {},
          "execution_count": 13
        }
      ]
    },
    {
      "cell_type": "markdown",
      "source": [
        "No missing values as observed"
      ],
      "metadata": {
        "id": "vHEhkR8RUKh9"
      }
    },
    {
      "cell_type": "code",
      "source": [
        "# Checking for Unique Values\n",
        "print(students.nunique())"
      ],
      "metadata": {
        "colab": {
          "base_uri": "https://localhost:8080/"
        },
        "id": "8gG_AJSvUx5E",
        "outputId": "bb175c00-4150-4529-b543-5c4f673fe99e"
      },
      "execution_count": null,
      "outputs": [
        {
          "output_type": "stream",
          "name": "stdout",
          "text": [
            "gender                 2\n",
            "age                    6\n",
            "education_level        3\n",
            "institution_type       2\n",
            "it_student             2\n",
            "location               2\n",
            "load-shedding          2\n",
            "financial_condition    3\n",
            "internet_type          2\n",
            "network_type           3\n",
            "class_duration         3\n",
            "self_lms               2\n",
            "device                 3\n",
            "adaptivity_level       3\n",
            "dtype: int64\n"
          ]
        }
      ]
    },
    {
      "cell_type": "code",
      "source": [
        "# Checking for unique values in each column and seeing if there are any anomalies\n",
        "for col in students.columns.to_list():\n",
        "  print(f'{col} column unique values: \\n')\n",
        "  print(students[col].unique(), end='\\n')\n",
        "  print('**********')\n",
        "  print('\\n')"
      ],
      "metadata": {
        "colab": {
          "base_uri": "https://localhost:8080/"
        },
        "id": "1j5ZPlpTU8He",
        "outputId": "2def7433-3b77-43e0-eac4-23f2313d7ebf"
      },
      "execution_count": null,
      "outputs": [
        {
          "output_type": "stream",
          "name": "stdout",
          "text": [
            "gender column unique values: \n",
            "\n",
            "['Boy' 'Girl']\n",
            "**********\n",
            "\n",
            "\n",
            "age column unique values: \n",
            "\n",
            "['21-25' '16-20' '11-15' '26-30' '6-10' '1-5']\n",
            "**********\n",
            "\n",
            "\n",
            "education_level column unique values: \n",
            "\n",
            "['University' 'College' 'School']\n",
            "**********\n",
            "\n",
            "\n",
            "institution_type column unique values: \n",
            "\n",
            "['Non Government' 'Government']\n",
            "**********\n",
            "\n",
            "\n",
            "it_student column unique values: \n",
            "\n",
            "['No' 'Yes']\n",
            "**********\n",
            "\n",
            "\n",
            "location column unique values: \n",
            "\n",
            "['Yes' 'No']\n",
            "**********\n",
            "\n",
            "\n",
            "load-shedding column unique values: \n",
            "\n",
            "['Low' 'High']\n",
            "**********\n",
            "\n",
            "\n",
            "financial_condition column unique values: \n",
            "\n",
            "['Mid' 'Poor' 'Rich']\n",
            "**********\n",
            "\n",
            "\n",
            "internet_type column unique values: \n",
            "\n",
            "['Wifi' 'Mobile Data']\n",
            "**********\n",
            "\n",
            "\n",
            "network_type column unique values: \n",
            "\n",
            "['4G' '3G' '2G']\n",
            "**********\n",
            "\n",
            "\n",
            "class_duration column unique values: \n",
            "\n",
            "['3-6' '1-3' '0']\n",
            "**********\n",
            "\n",
            "\n",
            "self_lms column unique values: \n",
            "\n",
            "['No' 'Yes']\n",
            "**********\n",
            "\n",
            "\n",
            "device column unique values: \n",
            "\n",
            "['Tab' 'Mobile' 'Computer']\n",
            "**********\n",
            "\n",
            "\n",
            "adaptivity_level column unique values: \n",
            "\n",
            "['Moderate' 'Low' 'High']\n",
            "**********\n",
            "\n",
            "\n"
          ]
        }
      ]
    },
    {
      "cell_type": "code",
      "source": [
        "#checking for duplicates\n",
        "students.duplicated().any()"
      ],
      "metadata": {
        "colab": {
          "base_uri": "https://localhost:8080/"
        },
        "id": "4GqXDaLBNSLQ",
        "outputId": "289357eb-09a8-4c4c-faf8-2f2cd5996dbd"
      },
      "execution_count": null,
      "outputs": [
        {
          "output_type": "execute_result",
          "data": {
            "text/plain": [
              "True"
            ]
          },
          "metadata": {},
          "execution_count": 16
        }
      ]
    },
    {
      "cell_type": "markdown",
      "source": [
        "We will not drop any duplicates because unique respondents can have the same responses to the questions."
      ],
      "metadata": {
        "id": "KAg0REJHN5mm"
      }
    },
    {
      "cell_type": "markdown",
      "source": [
        "## 4.0 Exploratory Data Analysis"
      ],
      "metadata": {
        "id": "IEGNozzJjW9m"
      }
    },
    {
      "cell_type": "markdown",
      "source": [
        "### Univariate Analysis"
      ],
      "metadata": {
        "id": "YpdpIl-ojlFJ"
      }
    },
    {
      "cell_type": "markdown",
      "source": [
        "**Value Counts**"
      ],
      "metadata": {
        "id": "hB6vHG16nkZ1"
      }
    },
    {
      "cell_type": "code",
      "source": [
        "# Value Counts\n",
        "\n",
        "print(students['gender'].value_counts())\n",
        "print('**********')\n",
        "print(students['age'].value_counts())\n",
        "print('**********')\n",
        "print(students['education_level'].value_counts())\n",
        "print('**********')\n",
        "print(students['institution_type'].value_counts())\n",
        "print('**********')\n",
        "print(students['it_student'].value_counts())\n",
        "print('**********')\n",
        "print(students['location'].value_counts())\n",
        "print('**********')\n",
        "print(students['load-shedding'].value_counts())\n",
        "print('**********')\n",
        "print(students['financial_condition'].value_counts())\n",
        "print('**********')\n",
        "print(students['internet_type'].value_counts())\n",
        "print('**********')\n",
        "print(students['network_type'].value_counts())\n",
        "print('**********')\n",
        "print(students['class_duration'].value_counts())\n",
        "print('**********')\n",
        "print(students['self_lms'].value_counts())\n",
        "print('**********')\n",
        "print(students['device'].value_counts())\n",
        "print('**********')\n",
        "print(students['adaptivity_level'].value_counts())"
      ],
      "metadata": {
        "id": "t4Ht9iaojxZI",
        "colab": {
          "base_uri": "https://localhost:8080/"
        },
        "outputId": "fb9e2717-c1aa-4bdc-d298-156c70516d27"
      },
      "execution_count": null,
      "outputs": [
        {
          "output_type": "stream",
          "name": "stdout",
          "text": [
            "Boy     663\n",
            "Girl    542\n",
            "Name: gender, dtype: int64\n",
            "**********\n",
            "21-25    374\n",
            "11-15    353\n",
            "16-20    278\n",
            "1-5       81\n",
            "26-30     68\n",
            "6-10      51\n",
            "Name: age, dtype: int64\n",
            "**********\n",
            "School        530\n",
            "University    456\n",
            "College       219\n",
            "Name: education_level, dtype: int64\n",
            "**********\n",
            "Non Government    823\n",
            "Government        382\n",
            "Name: institution_type, dtype: int64\n",
            "**********\n",
            "No     901\n",
            "Yes    304\n",
            "Name: it_student, dtype: int64\n",
            "**********\n",
            "Yes    935\n",
            "No     270\n",
            "Name: location, dtype: int64\n",
            "**********\n",
            "Low     1004\n",
            "High     201\n",
            "Name: load-shedding, dtype: int64\n",
            "**********\n",
            "Mid     878\n",
            "Poor    242\n",
            "Rich     85\n",
            "Name: financial_condition, dtype: int64\n",
            "**********\n",
            "Mobile Data    695\n",
            "Wifi           510\n",
            "Name: internet_type, dtype: int64\n",
            "**********\n",
            "4G    775\n",
            "3G    411\n",
            "2G     19\n",
            "Name: network_type, dtype: int64\n",
            "**********\n",
            "1-3    840\n",
            "3-6    211\n",
            "0      154\n",
            "Name: class_duration, dtype: int64\n",
            "**********\n",
            "No     995\n",
            "Yes    210\n",
            "Name: self_lms, dtype: int64\n",
            "**********\n",
            "Mobile      1013\n",
            "Computer     162\n",
            "Tab           30\n",
            "Name: device, dtype: int64\n",
            "**********\n",
            "Moderate    625\n",
            "Low         480\n",
            "High        100\n",
            "Name: adaptivity_level, dtype: int64\n"
          ]
        }
      ]
    },
    {
      "cell_type": "markdown",
      "source": [
        "**Plots** showing count"
      ],
      "metadata": {
        "id": "CG0nKhvMnXYU"
      }
    },
    {
      "cell_type": "code",
      "source": [
        "students['age'].value_counts().plot.bar(title='age_count')"
      ],
      "metadata": {
        "id": "OMDS6mP-UrB3",
        "colab": {
          "base_uri": "https://localhost:8080/",
          "height": 317
        },
        "outputId": "c0c28bdd-3a9f-4beb-92f9-16205818fb1f"
      },
      "execution_count": null,
      "outputs": [
        {
          "output_type": "execute_result",
          "data": {
            "text/plain": [
              "<matplotlib.axes._subplots.AxesSubplot at 0x7f5b70f75090>"
            ]
          },
          "metadata": {},
          "execution_count": 18
        },
        {
          "output_type": "display_data",
          "data": {
            "text/plain": [
              "<Figure size 432x288 with 1 Axes>"
            ],
            "image/png": "[encoded data removed]"
          },
          "metadata": {
            "needs_background": "light"
          }
        }
      ]
    },
    {
      "cell_type": "markdown",
      "source": [
        "The student age group most represented is age 21-25"
      ],
      "metadata": {
        "id": "WZC81Xrp4JKW"
      }
    },
    {
      "cell_type": "code",
      "source": [
        "students['gender'].value_counts().plot.bar(title='gender_count')"
      ],
      "metadata": {
        "id": "paKcxJ6sUefy",
        "colab": {
          "base_uri": "https://localhost:8080/",
          "height": 307
        },
        "outputId": "9858b2f0-68ae-4dc0-b524-43bf4ac57927"
      },
      "execution_count": null,
      "outputs": [
        {
          "output_type": "execute_result",
          "data": {
            "text/plain": [
              "<matplotlib.axes._subplots.AxesSubplot at 0x7f5b70df7cd0>"
            ]
          },
          "metadata": {},
          "execution_count": 19
        },
        {
          "output_type": "display_data",
          "data": {
            "text/plain": [
              "<Figure size 432x288 with 1 Axes>"
            ],
            "image/png": "[encoded data removed]"
          },
          "metadata": {
            "needs_background": "light"
          }
        }
      ]
    },
    {
      "cell_type": "markdown",
      "source": [
        "There are more male than female respondents."
      ],
      "metadata": {
        "id": "lc5lDXMc4NO8"
      }
    },
    {
      "cell_type": "code",
      "source": [
        "students['education_level'].value_counts().plot.bar(title='education_level_count')"
      ],
      "metadata": {
        "id": "JzQPgU50Urg-",
        "colab": {
          "base_uri": "https://localhost:8080/",
          "height": 339
        },
        "outputId": "0ef4c408-225a-4783-cef4-dfdcc0a73c7c"
      },
      "execution_count": null,
      "outputs": [
        {
          "output_type": "execute_result",
          "data": {
            "text/plain": [
              "<matplotlib.axes._subplots.AxesSubplot at 0x7f5b7092c890>"
            ]
          },
          "metadata": {},
          "execution_count": 20
        },
        {
          "output_type": "display_data",
          "data": {
            "text/plain": [
              "<Figure size 432x288 with 1 Axes>"
            ],
            "image/png": "[encoded data removed]"
          },
          "metadata": {
            "needs_background": "light"
          }
        }
      ]
    },
    {
      "cell_type": "markdown",
      "source": [
        "Most respondents are studying at the school level (ranges from \n",
        "nursery to high school)."
      ],
      "metadata": {
        "id": "WD5VTlW84OT7"
      }
    },
    {
      "cell_type": "code",
      "source": [
        "students['institution_type'].value_counts().plot.bar(title='institution_type_count')"
      ],
      "metadata": {
        "id": "6l5ht97zUr2W",
        "colab": {
          "base_uri": "https://localhost:8080/",
          "height": 373
        },
        "outputId": "c411ba8f-3e84-4df6-a776-31d11bc54f75"
      },
      "execution_count": null,
      "outputs": [
        {
          "output_type": "execute_result",
          "data": {
            "text/plain": [
              "<matplotlib.axes._subplots.AxesSubplot at 0x7f5b708a1e10>"
            ]
          },
          "metadata": {},
          "execution_count": 21
        },
        {
          "output_type": "display_data",
          "data": {
            "text/plain": [
              "<Figure size 432x288 with 1 Axes>"
            ],
            "image/png": "[encoded data removed]"
          },
          "metadata": {
            "needs_background": "light"
          }
        }
      ]
    },
    {
      "cell_type": "markdown",
      "source": [
        "Most respondents are studying at non-government educational institutions."
      ],
      "metadata": {
        "id": "UtksCBpU4Qxr"
      }
    },
    {
      "cell_type": "code",
      "source": [
        "students['it_student'].value_counts().plot.bar(title='it_student_count')"
      ],
      "metadata": {
        "id": "Im4EAtysUsIl",
        "colab": {
          "base_uri": "https://localhost:8080/",
          "height": 304
        },
        "outputId": "54f675b6-51fa-48e0-a52e-32c77868150e"
      },
      "execution_count": null,
      "outputs": [
        {
          "output_type": "execute_result",
          "data": {
            "text/plain": [
              "<matplotlib.axes._subplots.AxesSubplot at 0x7f5b7081af50>"
            ]
          },
          "metadata": {},
          "execution_count": 22
        },
        {
          "output_type": "display_data",
          "data": {
            "text/plain": [
              "<Figure size 432x288 with 1 Axes>"
            ],
            "image/png": "[encoded data removed]"
          },
          "metadata": {
            "needs_background": "light"
          }
        }
      ]
    },
    {
      "cell_type": "markdown",
      "source": [
        "Most respondents are not IT students."
      ],
      "metadata": {
        "id": "mNlLloTR4Row"
      }
    },
    {
      "cell_type": "code",
      "source": [
        "students['location'].value_counts().plot.bar(title='location_count')"
      ],
      "metadata": {
        "id": "3757FAOLUsYi",
        "colab": {
          "base_uri": "https://localhost:8080/",
          "height": 304
        },
        "outputId": "2a66ad9e-700e-4d29-b137-68d60ea092f7"
      },
      "execution_count": null,
      "outputs": [
        {
          "output_type": "execute_result",
          "data": {
            "text/plain": [
              "<matplotlib.axes._subplots.AxesSubplot at 0x7f5b708040d0>"
            ]
          },
          "metadata": {},
          "execution_count": 23
        },
        {
          "output_type": "display_data",
          "data": {
            "text/plain": [
              "<Figure size 432x288 with 1 Axes>"
            ],
            "image/png": "[encoded data removed]"
          },
          "metadata": {
            "needs_background": "light"
          }
        }
      ]
    },
    {
      "cell_type": "markdown",
      "source": [
        "Most students were located in town as opposed to rural areas."
      ],
      "metadata": {
        "id": "BMYNi-eM4UD7"
      }
    },
    {
      "cell_type": "code",
      "source": [
        "students['load-shedding'].value_counts().plot.bar(title='load-shedding_count')"
      ],
      "metadata": {
        "id": "dUhTMPEYUslD",
        "colab": {
          "base_uri": "https://localhost:8080/",
          "height": 311
        },
        "outputId": "ced1650e-06a4-4f0b-b079-b045cf798995"
      },
      "execution_count": null,
      "outputs": [
        {
          "output_type": "execute_result",
          "data": {
            "text/plain": [
              "<matplotlib.axes._subplots.AxesSubplot at 0x7f5b7075ab50>"
            ]
          },
          "metadata": {},
          "execution_count": 24
        },
        {
          "output_type": "display_data",
          "data": {
            "text/plain": [
              "<Figure size 432x288 with 1 Axes>"
            ],
            "image/png": "[encoded data removed]"
          },
          "metadata": {
            "needs_background": "light"
          }
        }
      ]
    },
    {
      "cell_type": "markdown",
      "source": [
        "Most of the students are in areas that experience low load-shedding (electricity cut-off)."
      ],
      "metadata": {
        "id": "7bJMuUaq4TZ6"
      }
    },
    {
      "cell_type": "code",
      "source": [
        "students['financial_condition'].value_counts().plot.bar(title='financial_condition_count')"
      ],
      "metadata": {
        "id": "PJB-qhZZUsyM",
        "colab": {
          "base_uri": "https://localhost:8080/",
          "height": 310
        },
        "outputId": "041b4e8d-78c6-4728-fb36-a93f81e904d8"
      },
      "execution_count": null,
      "outputs": [
        {
          "output_type": "execute_result",
          "data": {
            "text/plain": [
              "<matplotlib.axes._subplots.AxesSubplot at 0x7f5b706e3110>"
            ]
          },
          "metadata": {},
          "execution_count": 25
        },
        {
          "output_type": "display_data",
          "data": {
            "text/plain": [
              "<Figure size 432x288 with 1 Axes>"
            ],
            "image/png": "[encoded data removed]"
          },
          "metadata": {
            "needs_background": "light"
          }
        }
      ]
    },
    {
      "cell_type": "markdown",
      "source": [
        "The financial condition of most students is average."
      ],
      "metadata": {
        "id": "MsJP2P6W4WQ5"
      }
    },
    {
      "cell_type": "code",
      "source": [
        "students['internet_type'].value_counts().plot.bar(title='internet_type_count')"
      ],
      "metadata": {
        "id": "KFL1gpPFUs9Y",
        "colab": {
          "base_uri": "https://localhost:8080/",
          "height": 348
        },
        "outputId": "e5a800da-9417-4b64-85df-6e9414e100bc"
      },
      "execution_count": null,
      "outputs": [
        {
          "output_type": "execute_result",
          "data": {
            "text/plain": [
              "<matplotlib.axes._subplots.AxesSubplot at 0x7f5b706c8490>"
            ]
          },
          "metadata": {},
          "execution_count": 26
        },
        {
          "output_type": "display_data",
          "data": {
            "text/plain": [
              "<Figure size 432x288 with 1 Axes>"
            ],
            "image/png": "[encoded data removed]"
          },
          "metadata": {
            "needs_background": "light"
          }
        }
      ]
    },
    {
      "cell_type": "markdown",
      "source": [
        "Most of the students use mobile data to access their online classes.\n",
        "\n"
      ],
      "metadata": {
        "id": "gKIGCWMY4ZsC"
      }
    },
    {
      "cell_type": "code",
      "source": [
        "students['network_type'].value_counts().plot.bar(title='network_type_count')"
      ],
      "metadata": {
        "id": "ZtPWNtayUtH4",
        "colab": {
          "base_uri": "https://localhost:8080/",
          "height": 302
        },
        "outputId": "31e3cda5-59b2-49e4-f066-250efdc73bd7"
      },
      "execution_count": null,
      "outputs": [
        {
          "output_type": "execute_result",
          "data": {
            "text/plain": [
              "<matplotlib.axes._subplots.AxesSubplot at 0x7f5b7063b910>"
            ]
          },
          "metadata": {},
          "execution_count": 27
        },
        {
          "output_type": "display_data",
          "data": {
            "text/plain": [
              "<Figure size 432x288 with 1 Axes>"
            ],
            "image/png": "[encoded data removed]"
          },
          "metadata": {
            "needs_background": "light"
          }
        }
      ]
    },
    {
      "cell_type": "markdown",
      "source": [
        "Most of the students have access to 4G network."
      ],
      "metadata": {
        "id": "DbLbEDcS4a1J"
      }
    },
    {
      "cell_type": "code",
      "source": [
        "students['class_duration'].value_counts().plot.bar(title='class_duration_count')"
      ],
      "metadata": {
        "id": "B-hXrLi4Utb_",
        "colab": {
          "base_uri": "https://localhost:8080/",
          "height": 305
        },
        "outputId": "5a5269a1-2ca3-4175-b8e3-47aa67fe4d42"
      },
      "execution_count": null,
      "outputs": [
        {
          "output_type": "execute_result",
          "data": {
            "text/plain": [
              "<matplotlib.axes._subplots.AxesSubplot at 0x7f5b705a8b90>"
            ]
          },
          "metadata": {},
          "execution_count": 28
        },
        {
          "output_type": "display_data",
          "data": {
            "text/plain": [
              "<Figure size 432x288 with 1 Axes>"
            ],
            "image/png": "[encoded data removed]"
          },
          "metadata": {
            "needs_background": "light"
          }
        }
      ]
    },
    {
      "cell_type": "markdown",
      "source": [
        "Most students have classes whose duration ranges from 1 to 3 hours."
      ],
      "metadata": {
        "id": "ZKnC_iBl4cWU"
      }
    },
    {
      "cell_type": "code",
      "source": [
        "students['self_lms'].value_counts().plot.bar(title='self_lms_count')"
      ],
      "metadata": {
        "id": "K45HfLIQUtn0",
        "colab": {
          "base_uri": "https://localhost:8080/",
          "height": 304
        },
        "outputId": "76787d5a-93a4-4bf7-e29b-84833f2fbb89"
      },
      "execution_count": null,
      "outputs": [
        {
          "output_type": "execute_result",
          "data": {
            "text/plain": [
              "<matplotlib.axes._subplots.AxesSubplot at 0x7f5b70521ad0>"
            ]
          },
          "metadata": {},
          "execution_count": 29
        },
        {
          "output_type": "display_data",
          "data": {
            "text/plain": [
              "<Figure size 432x288 with 1 Axes>"
            ],
            "image/png": "[encoded data removed]"
          },
          "metadata": {
            "needs_background": "light"
          }
        }
      ]
    },
    {
      "cell_type": "markdown",
      "source": [
        "Most respondents are in educational institutions that do not have their own learning management system."
      ],
      "metadata": {
        "id": "DWq8FAQl4eSc"
      }
    },
    {
      "cell_type": "code",
      "source": [
        "students['device'].value_counts().plot.bar(title='device_count')"
      ],
      "metadata": {
        "id": "PIev_yt3UtzM",
        "colab": {
          "base_uri": "https://localhost:8080/",
          "height": 338
        },
        "outputId": "903ddc08-45cb-452d-ecbc-690e3786ee3a"
      },
      "execution_count": null,
      "outputs": [
        {
          "output_type": "execute_result",
          "data": {
            "text/plain": [
              "<matplotlib.axes._subplots.AxesSubplot at 0x7f5b70505850>"
            ]
          },
          "metadata": {},
          "execution_count": 30
        },
        {
          "output_type": "display_data",
          "data": {
            "text/plain": [
              "<Figure size 432x288 with 1 Axes>"
            ],
            "image/png": "[encoded data removed]"
          },
          "metadata": {
            "needs_background": "light"
          }
        }
      ]
    },
    {
      "cell_type": "markdown",
      "source": [
        "The device most commonly used to access online classes is mobile."
      ],
      "metadata": {
        "id": "N1Y4y6Pc4fr2"
      }
    },
    {
      "cell_type": "code",
      "source": [
        "students['adaptivity_level'].value_counts().plot.bar(title='adaptivity_level_count')"
      ],
      "metadata": {
        "id": "Rd4wpQ-hVQBX",
        "colab": {
          "base_uri": "https://localhost:8080/",
          "height": 336
        },
        "outputId": "a83b261e-4768-443a-c2e7-fe366ff84471"
      },
      "execution_count": null,
      "outputs": [
        {
          "output_type": "execute_result",
          "data": {
            "text/plain": [
              "<matplotlib.axes._subplots.AxesSubplot at 0x7f5b7047a6d0>"
            ]
          },
          "metadata": {},
          "execution_count": 31
        },
        {
          "output_type": "display_data",
          "data": {
            "text/plain": [
              "<Figure size 432x288 with 1 Axes>"
            ],
            "image/png": "[encoded data removed]"
          },
          "metadata": {
            "needs_background": "light"
          }
        }
      ]
    },
    {
      "cell_type": "markdown",
      "source": [
        "Most of the students had moderate level of adaptability to online schooling."
      ],
      "metadata": {
        "id": "yJavgET-4iif"
      }
    },
    {
      "cell_type": "markdown",
      "source": [
        "### Bivariate Analysis"
      ],
      "metadata": {
        "id": "wt9i43WrjoUK"
      }
    },
    {
      "cell_type": "code",
      "source": [
        "students.columns"
      ],
      "metadata": {
        "colab": {
          "base_uri": "https://localhost:8080/"
        },
        "id": "fSyQVtZ6sUSq",
        "outputId": "6c98575b-d066-4281-8999-b8feb1f43c46"
      },
      "execution_count": null,
      "outputs": [
        {
          "output_type": "execute_result",
          "data": {
            "text/plain": [
              "Index(['gender', 'age', 'education_level', 'institution_type', 'it_student',\n",
              "       'location', 'load-shedding', 'financial_condition', 'internet_type',\n",
              "       'network_type', 'class_duration', 'self_lms', 'device',\n",
              "       'adaptivity_level'],\n",
              "      dtype='object')"
            ]
          },
          "metadata": {},
          "execution_count": 32
        }
      ]
    },
    {
      "cell_type": "code",
      "source": [
        "# Adaptability by gender \n",
        "\n",
        "sns.countplot(x='gender', hue = 'adaptivity_level', data=students)\n",
        "plt.title('Adaptability by gender')\n",
        "plt.gcf().set_size_inches(8, 6)\n",
        "plt.show()"
      ],
      "metadata": {
        "colab": {
          "base_uri": "https://localhost:8080/",
          "height": 404
        },
        "id": "QDHJ12rYyHTs",
        "outputId": "56673693-bc49-4a3f-f67c-d5c09604cf79"
      },
      "execution_count": null,
      "outputs": [
        {
          "output_type": "display_data",
          "data": {
            "text/plain": [
              "<Figure size 576x432 with 1 Axes>"
            ],
            "image/png": "[encoded data removed]"
          },
          "metadata": {
            "needs_background": "light"
          }
        }
      ]
    },
    {
      "cell_type": "markdown",
      "source": [
        "Both male and female students showed a similar pattern in the level of adaptability. For both genders, most students had a moderate level of adaptability."
      ],
      "metadata": {
        "id": "dGWFFmd4zDL1"
      }
    },
    {
      "cell_type": "code",
      "source": [
        "# Adaptability by age \n",
        "\n",
        "sns.countplot(x='age', hue = 'adaptivity_level', data=students)\n",
        "plt.title('Adaptability by Age')\n",
        "plt.gcf().set_size_inches(8, 6)\n",
        "plt.legend(loc='upper right')\n",
        "plt.show()"
      ],
      "metadata": {
        "colab": {
          "base_uri": "https://localhost:8080/",
          "height": 404
        },
        "id": "me_z_5XhzLhf",
        "outputId": "2d8faab3-5738-46a1-eb28-304c9d29d4a8"
      },
      "execution_count": null,
      "outputs": [
        {
          "output_type": "display_data",
          "data": {
            "text/plain": [
              "<Figure size 576x432 with 1 Axes>"
            ],
            "image/png": "[encoded data removed]"
          },
          "metadata": {
            "needs_background": "light"
          }
        }
      ]
    },
    {
      "cell_type": "markdown",
      "source": [
        "**For respondents:**\n",
        "\n",
        "**1. Aged 26-30:**\n",
        "* Most had a low level of adaptability to online education.\n",
        "\n",
        "**2. Aged 21-25:**\n",
        "* Most had a moderate level of adaptability to online education.\n",
        "\n",
        "**3. Aged 16-20:**\n",
        "* Most had a low level of adaptability to online education.\n",
        "\n",
        "**4. Aged 11-15:**\n",
        "* Most had a moderate level of adaptability to online education.\n",
        "\n",
        "**5. Aged 6-10:**\n",
        "* Most had a low level of adaptability to online education.\n",
        "\n",
        "**6. Aged 1-5:**\n",
        "* Most had a moderate level of adaptability to online education.\n"
      ],
      "metadata": {
        "id": "KEsa9c0lzyVt"
      }
    },
    {
      "cell_type": "code",
      "source": [
        "# Adaptability by education level \n",
        "\n",
        "sns.countplot(x='education_level', hue = 'adaptivity_level', data=students)\n",
        "plt.title('Adaptability by Education level')\n",
        "plt.gcf().set_size_inches(8, 6)\n",
        "plt.legend(loc='upper right')\n",
        "plt.show()"
      ],
      "metadata": {
        "colab": {
          "base_uri": "https://localhost:8080/",
          "height": 405
        },
        "id": "dkGBg6yhzvLQ",
        "outputId": "29a2a86d-c5f9-4562-871a-6fab0785cb54"
      },
      "execution_count": null,
      "outputs": [
        {
          "output_type": "display_data",
          "data": {
            "text/plain": [
              "<Figure size 576x432 with 1 Axes>"
            ],
            "image/png": "[encoded data removed]"
          },
          "metadata": {
            "needs_background": "light"
          }
        }
      ]
    },
    {
      "cell_type": "markdown",
      "source": [
        "For students studying at:\n",
        "\n",
        "**1. University level:**\n",
        "* Most had moderate adaptability to online education\n",
        "\n",
        "**2. College education level:**\n",
        "* Most had low adaptability to online education\n",
        "* As opposed to universities, stand-alone colleges have 2-4 year certifications and no have graduate courses, may be more specialised.\n",
        "\n",
        "**3. School level:**\n",
        "* Most had moderate adaptability to online education \n",
        "* Ranges from nursery to high school."
      ],
      "metadata": {
        "id": "lUt4fT2B0I1W"
      }
    },
    {
      "cell_type": "code",
      "source": [
        "# Adaptability by institution type \n",
        "\n",
        "sns.countplot(x='institution_type', hue = 'adaptivity_level', data=students)\n",
        "plt.title('Adaptability by Institution Type')\n",
        "plt.gcf().set_size_inches(8, 6)\n",
        "plt.legend(loc='upper right')\n",
        "plt.show()"
      ],
      "metadata": {
        "colab": {
          "base_uri": "https://localhost:8080/",
          "height": 405
        },
        "id": "KDn3q4IZ0JZ3",
        "outputId": "44e5be85-452c-4620-f753-2512d3e88a98"
      },
      "execution_count": null,
      "outputs": [
        {
          "output_type": "display_data",
          "data": {
            "text/plain": [
              "<Figure size 576x432 with 1 Axes>"
            ],
            "image/png": "[encoded data removed]"
          },
          "metadata": {
            "needs_background": "light"
          }
        }
      ]
    },
    {
      "cell_type": "markdown",
      "source": [
        "Most of the students in non-government educational institutions had a moderate level of adaptability to online education, while most of those in government educational institutions had a low level of adaptability. "
      ],
      "metadata": {
        "id": "O_hVUqZM0X60"
      }
    },
    {
      "cell_type": "code",
      "source": [
        "# Adaptability by IT student or not \n",
        "\n",
        "sns.countplot(x='it_student', hue = 'adaptivity_level', data=students)\n",
        "plt.title('Adaptability by IT student or not')\n",
        "plt.gcf().set_size_inches(8, 6)\n",
        "plt.legend(loc='upper right')\n",
        "plt.show()"
      ],
      "metadata": {
        "colab": {
          "base_uri": "https://localhost:8080/",
          "height": 405
        },
        "id": "zUQwdt4y0YW8",
        "outputId": "20156432-3fc8-4b7d-c7f7-736f9fc56a3b"
      },
      "execution_count": null,
      "outputs": [
        {
          "output_type": "display_data",
          "data": {
            "text/plain": [
              "<Figure size 576x432 with 1 Axes>"
            ],
            "image/png": "[encoded data removed]"
          },
          "metadata": {
            "needs_background": "light"
          }
        }
      ]
    },
    {
      "cell_type": "markdown",
      "source": [
        "For both IT and non-IT students, most had a moderate level of adaptability to online education."
      ],
      "metadata": {
        "id": "sSRp_ZIO0cpr"
      }
    },
    {
      "cell_type": "code",
      "source": [
        "# Adaptability by location \n",
        "\n",
        "sns.countplot(x='location', hue = 'adaptivity_level', data=students)\n",
        "plt.title('Adaptability by location')\n",
        "plt.gcf().set_size_inches(8, 6)\n",
        "plt.legend(loc='upper right')\n",
        "plt.show()\n",
        "#Yes == 'in town'\n",
        "#No == 'not in town'"
      ],
      "metadata": {
        "colab": {
          "base_uri": "https://localhost:8080/",
          "height": 404
        },
        "id": "HBUCrUU40lsr",
        "outputId": "f00e5a8f-937e-4f38-bd16-e9d005641429"
      },
      "execution_count": null,
      "outputs": [
        {
          "output_type": "display_data",
          "data": {
            "text/plain": [
              "<Figure size 576x432 with 1 Axes>"
            ],
            "image/png": "[encoded data removed]"
          },
          "metadata": {
            "needs_background": "light"
          }
        }
      ]
    },
    {
      "cell_type": "markdown",
      "source": [
        "Most of the students located in town had a moderate level of adaptability to online education while most of those in rural areas had a low level of adaptability."
      ],
      "metadata": {
        "id": "cHe0o5mg0uK1"
      }
    },
    {
      "cell_type": "code",
      "source": [
        "# Adaptability by frequency of load shedding  \n",
        "\n",
        "sns.countplot(x='load-shedding', hue = 'adaptivity_level', data=students)\n",
        "plt.title('Adaptability by frequency of load shedding')\n",
        "plt.gcf().set_size_inches(8, 6)\n",
        "plt.legend(loc='upper right')\n",
        "plt.show()"
      ],
      "metadata": {
        "colab": {
          "base_uri": "https://localhost:8080/",
          "height": 404
        },
        "id": "8Jam8XEK0u7X",
        "outputId": "362371e4-c063-4ed9-f70d-e5dd2f8e40a3"
      },
      "execution_count": null,
      "outputs": [
        {
          "output_type": "display_data",
          "data": {
            "text/plain": [
              "<Figure size 576x432 with 1 Axes>"
            ],
            "image/png": "[encoded data removed]"
          },
          "metadata": {
            "needs_background": "light"
          }
        }
      ]
    },
    {
      "cell_type": "markdown",
      "source": [
        "Most of the students in areas with low load-shedding had a moderate level of adaptability to online education while most of those in areas experiencing high load-shedding had a low level of adaptability."
      ],
      "metadata": {
        "id": "p8p865W31Ihf"
      }
    },
    {
      "cell_type": "code",
      "source": [
        "# Adaptability by financial condition  \n",
        "\n",
        "sns.countplot(x='financial_condition', hue = 'adaptivity_level', data=students)\n",
        "plt.title('Adaptability by Financial Condition')\n",
        "plt.gcf().set_size_inches(8, 6)\n",
        "plt.legend(loc='upper right')\n",
        "plt.show()"
      ],
      "metadata": {
        "colab": {
          "base_uri": "https://localhost:8080/",
          "height": 405
        },
        "id": "QXcOKd6M1VXe",
        "outputId": "e4939ef5-faf5-4482-e611-e113ba7fd532"
      },
      "execution_count": null,
      "outputs": [
        {
          "output_type": "display_data",
          "data": {
            "text/plain": [
              "<Figure size 576x432 with 1 Axes>"
            ],
            "image/png": "[encoded data removed]"
          },
          "metadata": {
            "needs_background": "light"
          }
        }
      ]
    },
    {
      "cell_type": "markdown",
      "source": [
        "**For the students whose financial condition is:**\n",
        "\n",
        "**1. Rich:**\n",
        "* Most had a high level of adaptability to online education.\n",
        "\n",
        "**2. Mid:**\n",
        "* Most had a moderate level of adaptability to online education.\n",
        "\n",
        "**3. Poor:**\n",
        "* Most had a low level of adaptability to online education."
      ],
      "metadata": {
        "id": "suSd9qjJ1fDY"
      }
    },
    {
      "cell_type": "code",
      "source": [
        "# Adaptability by internet type \n",
        "\n",
        "sns.countplot(x='internet_type', hue = 'adaptivity_level', data=students)\n",
        "plt.title('Adaptability by Internet Type')\n",
        "plt.gcf().set_size_inches(8, 6)\n",
        "plt.legend(loc='upper right')\n",
        "plt.show()"
      ],
      "metadata": {
        "colab": {
          "base_uri": "https://localhost:8080/",
          "height": 405
        },
        "id": "DdVTMGN81td9",
        "outputId": "d687918b-680d-435a-cd69-71500cf206b6"
      },
      "execution_count": null,
      "outputs": [
        {
          "output_type": "display_data",
          "data": {
            "text/plain": [
              "<Figure size 576x432 with 1 Axes>"
            ],
            "image/png": "[encoded data removed]"
          },
          "metadata": {
            "needs_background": "light"
          }
        }
      ]
    },
    {
      "cell_type": "markdown",
      "source": [
        "Most students who use wifi to access their online classes had a moderate level of adaptability to online education, and that was the same for most students using mobile data."
      ],
      "metadata": {
        "id": "ODFiXo1y1v13"
      }
    },
    {
      "cell_type": "code",
      "source": [
        "# Adaptability by network type \n",
        "\n",
        "sns.countplot(x='network_type', hue = 'adaptivity_level', data=students)\n",
        "plt.title('Adaptability by Network Type')\n",
        "plt.gcf().set_size_inches(8, 6)\n",
        "plt.legend(loc='upper right')\n",
        "plt.show()"
      ],
      "metadata": {
        "colab": {
          "base_uri": "https://localhost:8080/",
          "height": 405
        },
        "id": "CWdr7wjd16ox",
        "outputId": "5c1a71b6-626e-4748-93ae-240d04446c59"
      },
      "execution_count": null,
      "outputs": [
        {
          "output_type": "display_data",
          "data": {
            "text/plain": [
              "<Figure size 576x432 with 1 Axes>"
            ],
            "image/png": "[encoded data removed]"
          },
          "metadata": {
            "needs_background": "light"
          }
        }
      ]
    },
    {
      "cell_type": "markdown",
      "source": [
        "**For the students who rely on:**\n",
        "\n",
        "**1. 4G Network:**\n",
        "* Most had a moderate level of adaptability to online education.\n",
        "\n",
        "**2. 3G Network:**\n",
        "* Most had a moderate level of adaptability to online education.\n",
        "\n",
        "**3. 2G Network:**\n",
        "* Most had a low level of adaptability to online education."
      ],
      "metadata": {
        "id": "cn8bs7TP17bA"
      }
    },
    {
      "cell_type": "code",
      "source": [
        "# Adaptability by class duration (hours)\n",
        "\n",
        "sns.countplot(x='class_duration', hue = 'adaptivity_level', data=students)\n",
        "plt.title('Adaptability by Class Duration (hours)')\n",
        "plt.gcf().set_size_inches(8, 6)\n",
        "plt.legend(loc='upper right')\n",
        "plt.show()"
      ],
      "metadata": {
        "colab": {
          "base_uri": "https://localhost:8080/",
          "height": 405
        },
        "id": "wNEUERH52Jnm",
        "outputId": "50b3f338-9157-47b8-91d2-6b755be42c9a"
      },
      "execution_count": null,
      "outputs": [
        {
          "output_type": "display_data",
          "data": {
            "text/plain": [
              "<Figure size 576x432 with 1 Axes>"
            ],
            "image/png": "[encoded data removed]"
          },
          "metadata": {
            "needs_background": "light"
          }
        }
      ]
    },
    {
      "cell_type": "markdown",
      "source": [
        "**For the students whose classes are:**\n",
        "\n",
        "**1. 3-6 hours:**\n",
        "* Most had a moderate level of adaptability to online education.\n",
        "\n",
        "**2. 1-3 hours:**\n",
        "* Most had a moderate level of adaptability to online education.\n",
        "\n",
        "**3. < 1 hour (0 hours):**\n",
        "* Most had a low level of adaptability to online education."
      ],
      "metadata": {
        "id": "bRU9epTPM-UR"
      }
    },
    {
      "cell_type": "code",
      "source": [
        "# Adaptability by whether institution has its own LMS \n",
        "\n",
        "sns.countplot(x='self_lms', hue = 'adaptivity_level', data=students)\n",
        "plt.title('Adaptability by whether institution has its own LMS')\n",
        "plt.gcf().set_size_inches(8, 6)\n",
        "plt.legend(loc='upper right')\n",
        "plt.show()"
      ],
      "metadata": {
        "colab": {
          "base_uri": "https://localhost:8080/",
          "height": 405
        },
        "id": "6msCOxA42Tb_",
        "outputId": "2f9cdab4-67b3-4456-85d3-dab5d370e3db"
      },
      "execution_count": null,
      "outputs": [
        {
          "output_type": "display_data",
          "data": {
            "text/plain": [
              "<Figure size 576x432 with 1 Axes>"
            ],
            "image/png": "[encoded data removed]"
          },
          "metadata": {
            "needs_background": "light"
          }
        }
      ]
    },
    {
      "cell_type": "markdown",
      "source": [
        "For students whose institution has its own LMS, most had a moderate level of adapability to online education, which is similar for most students whose institution does not have its own LMS."
      ],
      "metadata": {
        "id": "rN2xFRPe2UFV"
      }
    },
    {
      "cell_type": "code",
      "source": [
        "# Adaptability by device used \n",
        "\n",
        "sns.countplot(x='device', hue = 'adaptivity_level', data=students)\n",
        "plt.title('Adaptability by Device Used')\n",
        "plt.gcf().set_size_inches(10, 12)\n",
        "plt.legend(loc='upper right')\n",
        "plt.show()"
      ],
      "metadata": {
        "colab": {
          "base_uri": "https://localhost:8080/",
          "height": 730
        },
        "id": "Wpfp73hi2gbR",
        "outputId": "71fa129c-90b1-4f01-babe-f3485de704aa"
      },
      "execution_count": null,
      "outputs": [
        {
          "output_type": "display_data",
          "data": {
            "text/plain": [
              "<Figure size 720x864 with 1 Axes>"
            ],
            "image/png": "[encoded data removed]"
          },
          "metadata": {
            "needs_background": "light"
          }
        }
      ]
    },
    {
      "cell_type": "markdown",
      "source": [
        "**For the students using the following to access their online classes:**\n",
        "\n",
        "**1. Mobile devices:**\n",
        "* Most had a moderate level of adaptability to online education.\n",
        "\n",
        "**2. Computer:**\n",
        "* Most had a moderate level of adaptability to online education.\n",
        "\n",
        "**3. Tab:**\n",
        "* Most had a moderate level of adaptability to online education."
      ],
      "metadata": {
        "id": "P8WlelxC2-4l"
      }
    },
    {
      "cell_type": "code",
      "source": [
        "#replacing categorical data with numerical representations for further analysis\n",
        "\n",
        "from sklearn.preprocessing import LabelEncoder\n",
        "stud_enc = students.copy()\n",
        "enc = LabelEncoder()\n",
        "\n",
        "for col in list(stud_enc.columns):\n",
        "  stud_enc[col] = enc.fit_transform(stud_enc[col])\n",
        "stud_enc"
      ],
      "metadata": {
        "colab": {
          "base_uri": "https://localhost:8080/",
          "height": 424
        },
        "id": "fIg6tJSmxfK1",
        "outputId": "e74da3c3-d2c7-4bb8-94e6-97e1e138566a"
      },
      "execution_count": null,
      "outputs": [
        {
          "output_type": "execute_result",
          "data": {
            "text/plain": [
              "      gender  age  education_level  institution_type  it_student  location  \\\n",
              "0          0    3                2                 1           0         1   \n",
              "1          1    3                2                 1           0         1   \n",
              "2          1    2                0                 0           0         1   \n",
              "3          1    1                1                 1           0         1   \n",
              "4          1    2                1                 1           0         1   \n",
              "...      ...  ...              ...               ...         ...       ...   \n",
              "1200       1    2                0                 1           0         1   \n",
              "1201       1    2                0                 1           0         0   \n",
              "1202       0    1                1                 1           0         1   \n",
              "1203       1    2                0                 1           0         0   \n",
              "1204       1    1                1                 1           0         1   \n",
              "\n",
              "      load-shedding  financial_condition  internet_type  network_type  \\\n",
              "0                 1                    0              1             2   \n",
              "1                 0                    0              0             2   \n",
              "2                 1                    0              1             2   \n",
              "3                 1                    0              0             2   \n",
              "4                 1                    1              0             1   \n",
              "...             ...                  ...            ...           ...   \n",
              "1200              1                    0              1             2   \n",
              "1201              0                    0              1             2   \n",
              "1202              1                    0              0             1   \n",
              "1203              1                    0              1             2   \n",
              "1204              1                    1              0             1   \n",
              "\n",
              "      class_duration  self_lms  device  adaptivity_level  \n",
              "0                  2         0       2                 2  \n",
              "1                  1         1       1                 2  \n",
              "2                  1         0       1                 2  \n",
              "3                  1         0       1                 2  \n",
              "4                  0         0       1                 1  \n",
              "...              ...       ...     ...               ...  \n",
              "1200               1         0       1                 1  \n",
              "1201               2         0       1                 2  \n",
              "1202               1         0       1                 2  \n",
              "1203               1         0       1                 1  \n",
              "1204               1         0       1                 2  \n",
              "\n",
              "[1205 rows x 14 columns]"
            ],
            "text/html": [
              "\n",
              "  <div id=\"df-41611a13-2f96-4f44-9fe2-6e988b0b0726\">\n",
              "    <div class=\"colab-df-container\">\n",
              "      <div>\n",
              "<style scoped>\n",
              "    .dataframe tbody tr th:only-of-type {\n",
              "        vertical-align: middle;\n",
              "    }\n",
              "\n",
              "    .dataframe tbody tr th {\n",
              "        vertical-align: top;\n",
              "    }\n",
              "\n",
              "    .dataframe thead th {\n",
              "        text-align: right;\n",
              "    }\n",
              "</style>\n",
              "<table border=\"1\" class=\"dataframe\">\n",
              "  <thead>\n",
              "    <tr style=\"text-align: right;\">\n",
              "      <th></th>\n",
              "      <th>gender</th>\n",
              "      <th>age</th>\n",
              "      <th>education_level</th>\n",
              "      <th>institution_type</th>\n",
              "      <th>it_student</th>\n",
              "      <th>location</th>\n",
              "      <th>load-shedding</th>\n",
              "      <th>financial_condition</th>\n",
              "      <th>internet_type</th>\n",
              "      <th>network_type</th>\n",
              "      <th>class_duration</th>\n",
              "      <th>self_lms</th>\n",
              "      <th>device</th>\n",
              "      <th>adaptivity_level</th>\n",
              "    </tr>\n",
              "  </thead>\n",
              "  <tbody>\n",
              "    <tr>\n",
              "      <th>0</th>\n",
              "      <td>0</td>\n",
              "      <td>3</td>\n",
              "      <td>2</td>\n",
              "      <td>1</td>\n",
              "      <td>0</td>\n",
              "      <td>1</td>\n",
              "      <td>1</td>\n",
              "      <td>0</td>\n",
              "      <td>1</td>\n",
              "      <td>2</td>\n",
              "      <td>2</td>\n",
              "      <td>0</td>\n",
              "      <td>2</td>\n",
              "      <td>2</td>\n",
              "    </tr>\n",
              "    <tr>\n",
              "      <th>1</th>\n",
              "      <td>1</td>\n",
              "      <td>3</td>\n",
              "      <td>2</td>\n",
              "      <td>1</td>\n",
              "      <td>0</td>\n",
              "      <td>1</td>\n",
              "      <td>0</td>\n",
              "      <td>0</td>\n",
              "      <td>0</td>\n",
              "      <td>2</td>\n",
              "      <td>1</td>\n",
              "      <td>1</td>\n",
              "      <td>1</td>\n",
              "      <td>2</td>\n",
              "    </tr>\n",
              "    <tr>\n",
              "      <th>2</th>\n",
              "      <td>1</td>\n",
              "      <td>2</td>\n",
              "      <td>0</td>\n",
              "      <td>0</td>\n",
              "      <td>0</td>\n",
              "      <td>1</td>\n",
              "      <td>1</td>\n",
              "      <td>0</td>\n",
              "      <td>1</td>\n",
              "      <td>2</td>\n",
              "      <td>1</td>\n",
              "      <td>0</td>\n",
              "      <td>1</td>\n",
              "      <td>2</td>\n",
              "    </tr>\n",
              "    <tr>\n",
              "      <th>3</th>\n",
              "      <td>1</td>\n",
              "      <td>1</td>\n",
              "      <td>1</td>\n",
              "      <td>1</td>\n",
              "      <td>0</td>\n",
              "      <td>1</td>\n",
              "      <td>1</td>\n",
              "      <td>0</td>\n",
              "      <td>0</td>\n",
              "      <td>2</td>\n",
              "      <td>1</td>\n",
              "      <td>0</td>\n",
              "      <td>1</td>\n",
              "      <td>2</td>\n",
              "    </tr>\n",
              "    <tr>\n",
              "      <th>4</th>\n",
              "      <td>1</td>\n",
              "      <td>2</td>\n",
              "      <td>1</td>\n",
              "      <td>1</td>\n",
              "      <td>0</td>\n",
              "      <td>1</td>\n",
              "      <td>1</td>\n",
              "      <td>1</td>\n",
              "      <td>0</td>\n",
              "      <td>1</td>\n",
              "      <td>0</td>\n",
              "      <td>0</td>\n",
              "      <td>1</td>\n",
              "      <td>1</td>\n",
              "    </tr>\n",
              "    <tr>\n",
              "      <th>...</th>\n",
              "      <td>...</td>\n",
              "      <td>...</td>\n",
              "      <td>...</td>\n",
              "      <td>...</td>\n",
              "      <td>...</td>\n",
              "      <td>...</td>\n",
              "      <td>...</td>\n",
              "      <td>...</td>\n",
              "      <td>...</td>\n",
              "      <td>...</td>\n",
              "      <td>...</td>\n",
              "      <td>...</td>\n",
              "      <td>...</td>\n",
              "      <td>...</td>\n",
              "    </tr>\n",
              "    <tr>\n",
              "      <th>1200</th>\n",
              "      <td>1</td>\n",
              "      <td>2</td>\n",
              "      <td>0</td>\n",
              "      <td>1</td>\n",
              "      <td>0</td>\n",
              "      <td>1</td>\n",
              "      <td>1</td>\n",
              "      <td>0</td>\n",
              "      <td>1</td>\n",
              "      <td>2</td>\n",
              "      <td>1</td>\n",
              "      <td>0</td>\n",
              "      <td>1</td>\n",
              "      <td>1</td>\n",
              "    </tr>\n",
              "    <tr>\n",
              "      <th>1201</th>\n",
              "      <td>1</td>\n",
              "      <td>2</td>\n",
              "      <td>0</td>\n",
              "      <td>1</td>\n",
              "      <td>0</td>\n",
              "      <td>0</td>\n",
              "      <td>0</td>\n",
              "      <td>0</td>\n",
              "      <td>1</td>\n",
              "      <td>2</td>\n",
              "      <td>2</td>\n",
              "      <td>0</td>\n",
              "      <td>1</td>\n",
              "      <td>2</td>\n",
              "    </tr>\n",
              "    <tr>\n",
              "      <th>1202</th>\n",
              "      <td>0</td>\n",
              "      <td>1</td>\n",
              "      <td>1</td>\n",
              "      <td>1</td>\n",
              "      <td>0</td>\n",
              "      <td>1</td>\n",
              "      <td>1</td>\n",
              "      <td>0</td>\n",
              "      <td>0</td>\n",
              "      <td>1</td>\n",
              "      <td>1</td>\n",
              "      <td>0</td>\n",
              "      <td>1</td>\n",
              "      <td>2</td>\n",
              "    </tr>\n",
              "    <tr>\n",
              "      <th>1203</th>\n",
              "      <td>1</td>\n",
              "      <td>2</td>\n",
              "      <td>0</td>\n",
              "      <td>1</td>\n",
              "      <td>0</td>\n",
              "      <td>0</td>\n",
              "      <td>1</td>\n",
              "      <td>0</td>\n",
              "      <td>1</td>\n",
              "      <td>2</td>\n",
              "      <td>1</td>\n",
              "      <td>0</td>\n",
              "      <td>1</td>\n",
              "      <td>1</td>\n",
              "    </tr>\n",
              "    <tr>\n",
              "      <th>1204</th>\n",
              "      <td>1</td>\n",
              "      <td>1</td>\n",
              "      <td>1</td>\n",
              "      <td>1</td>\n",
              "      <td>0</td>\n",
              "      <td>1</td>\n",
              "      <td>1</td>\n",
              "      <td>1</td>\n",
              "      <td>0</td>\n",
              "      <td>1</td>\n",
              "      <td>1</td>\n",
              "      <td>0</td>\n",
              "      <td>1</td>\n",
              "      <td>2</td>\n",
              "    </tr>\n",
              "  </tbody>\n",
              "</table>\n",
              "<p>1205 rows × 14 columns</p>\n",
              "</div>\n",
              "      <button class=\"colab-df-convert\" onclick=\"convertToInteractive('df-41611a13-2f96-4f44-9fe2-6e988b0b0726')\"\n",
              "              title=\"Convert this dataframe to an interactive table.\"\n",
              "              style=\"display:none;\">\n",
              "        \n",
              "  <svg xmlns=\"http://www.w3.org/2000/svg\" height=\"24px\"viewBox=\"0 0 24 24\"\n",
              "       width=\"24px\">\n",
              "    <path d=\"M0 0h24v24H0V0z\" fill=\"none\"/>\n",
              "    <path d=\"M18.56 5.44l.94 2.06.94-2.06 2.06-.94-2.06-.94-.94-2.06-.94 2.06-2.06.94zm-11 1L8.5 8.5l.94-2.06 2.06-.94-2.06-.94L8.5 2.5l-.94 2.06-2.06.94zm10 10l.94 2.06.94-2.06 2.06-.94-2.06-.94-.94-2.06-.94 2.06-2.06.94z\"/><path d=\"M17.41 7.96l-1.37-1.37c-.4-.4-.92-.59-1.43-.59-.52 0-1.04.2-1.43.59L10.3 9.45l-7.72 7.72c-.78.78-.78 2.05 0 2.83L4 21.41c.39.39.9.59 1.41.59.51 0 1.02-.2 1.41-.59l7.78-7.78 2.81-2.81c.8-.78.8-2.07 0-2.86zM5.41 20L4 18.59l7.72-7.72 1.47 1.35L5.41 20z\"/>\n",
              "  </svg>\n",
              "      </button>\n",
              "      \n",
              "  <style>\n",
              "    .colab-df-container {\n",
              "      display:flex;\n",
              "      flex-wrap:wrap;\n",
              "      gap: 12px;\n",
              "    }\n",
              "\n",
              "    .colab-df-convert {\n",
              "      background-color: #E8F0FE;\n",
              "      border: none;\n",
              "      border-radius: 50%;\n",
              "      cursor: pointer;\n",
              "      display: none;\n",
              "      fill: #1967D2;\n",
              "      height: 32px;\n",
              "      padding: 0 0 0 0;\n",
              "      width: 32px;\n",
              "    }\n",
              "\n",
              "    .colab-df-convert:hover {\n",
              "      background-color: #E2EBFA;\n",
              "      box-shadow: 0px 1px 2px rgba(60, 64, 67, 0.3), 0px 1px 3px 1px rgba(60, 64, 67, 0.15);\n",
              "      fill: #174EA6;\n",
              "    }\n",
              "\n",
              "    [theme=dark] .colab-df-convert {\n",
              "      background-color: #3B4455;\n",
              "      fill: #D2E3FC;\n",
              "    }\n",
              "\n",
              "    [theme=dark] .colab-df-convert:hover {\n",
              "      background-color: #434B5C;\n",
              "      box-shadow: 0px 1px 3px 1px rgba(0, 0, 0, 0.15);\n",
              "      filter: drop-shadow(0px 1px 2px rgba(0, 0, 0, 0.3));\n",
              "      fill: #FFFFFF;\n",
              "    }\n",
              "  </style>\n",
              "\n",
              "      <script>\n",
              "        const buttonEl =\n",
              "          document.querySelector('#df-41611a13-2f96-4f44-9fe2-6e988b0b0726 button.colab-df-convert');\n",
              "        buttonEl.style.display =\n",
              "          google.colab.kernel.accessAllowed ? 'block' : 'none';\n",
              "\n",
              "        async function convertToInteractive(key) {\n",
              "          const element = document.querySelector('#df-41611a13-2f96-4f44-9fe2-6e988b0b0726');\n",
              "          const dataTable =\n",
              "            await google.colab.kernel.invokeFunction('convertToInteractive',\n",
              "                                                     [key], {});\n",
              "          if (!dataTable) return;\n",
              "\n",
              "          const docLinkHtml = 'Like what you see? Visit the ' +\n",
              "            '<a target=\"_blank\" href=https://colab.research.google.com/notebooks/data_table.ipynb>data table notebook</a>'\n",
              "            + ' to learn more about interactive tables.';\n",
              "          element.innerHTML = '';\n",
              "          dataTable['output_type'] = 'display_data';\n",
              "          await google.colab.output.renderOutput(dataTable, element);\n",
              "          const docLink = document.createElement('div');\n",
              "          docLink.innerHTML = docLinkHtml;\n",
              "          element.appendChild(docLink);\n",
              "        }\n",
              "      </script>\n",
              "    </div>\n",
              "  </div>\n",
              "  "
            ]
          },
          "metadata": {},
          "execution_count": 46
        }
      ]
    },
    {
      "cell_type": "code",
      "source": [
        "# creating a correlation heat map\n",
        "\n",
        "sns.heatmap(stud_enc.corr(),annot=True)\n",
        "plt.gcf().set_size_inches(12,6)\n",
        "plt.show()"
      ],
      "metadata": {
        "colab": {
          "base_uri": "https://localhost:8080/",
          "height": 462
        },
        "id": "j62z4F1h3Q8Q",
        "outputId": "404d7a81-fc47-4ab9-fb12-313b8e27d611"
      },
      "execution_count": null,
      "outputs": [
        {
          "output_type": "display_data",
          "data": {
            "text/plain": [
              "<Figure size 864x432 with 2 Axes>"
            ],
            "image/png": "[encoded data removed]"
          },
          "metadata": {
            "needs_background": "light"
          }
        }
      ]
    },
    {
      "cell_type": "markdown",
      "source": [
        "Looking at the absolute values of the coefficients, financial condition, age, class duration and institution type (in that order) seem to be the most correlated to the adaptivity level. We will carry out multivariate analysis to identify with more accuracy which features influence the adaptivity level most."
      ],
      "metadata": {
        "id": "RiBv1frC37CS"
      }
    },
    {
      "cell_type": "markdown",
      "source": [
        "### **Multivariate Analysis**"
      ],
      "metadata": {
        "id": "vvXNRrLFjrYU"
      }
    },
    {
      "cell_type": "code",
      "source": [
        "from sklearn.preprocessing import LabelEncoder\n",
        "stud_enc = students.copy()\n",
        "enc = LabelEncoder()\n",
        "\n",
        "for col in list(stud_enc.columns):\n",
        "  stud_enc[col] = enc.fit_transform(stud_enc[col])\n",
        "stud_enc"
      ],
      "metadata": {
        "id": "hg6YG0fWjyef",
        "colab": {
          "base_uri": "https://localhost:8080/",
          "height": 424
        },
        "outputId": "517288d9-2d78-41bc-b72b-4c8f18dea9a4"
      },
      "execution_count": null,
      "outputs": [
        {
          "output_type": "execute_result",
          "data": {
            "text/plain": [
              "      gender  age  education_level  institution_type  it_student  location  \\\n",
              "0          0    3                2                 1           0         1   \n",
              "1          1    3                2                 1           0         1   \n",
              "2          1    2                0                 0           0         1   \n",
              "3          1    1                1                 1           0         1   \n",
              "4          1    2                1                 1           0         1   \n",
              "...      ...  ...              ...               ...         ...       ...   \n",
              "1200       1    2                0                 1           0         1   \n",
              "1201       1    2                0                 1           0         0   \n",
              "1202       0    1                1                 1           0         1   \n",
              "1203       1    2                0                 1           0         0   \n",
              "1204       1    1                1                 1           0         1   \n",
              "\n",
              "      load-shedding  financial_condition  internet_type  network_type  \\\n",
              "0                 1                    0              1             2   \n",
              "1                 0                    0              0             2   \n",
              "2                 1                    0              1             2   \n",
              "3                 1                    0              0             2   \n",
              "4                 1                    1              0             1   \n",
              "...             ...                  ...            ...           ...   \n",
              "1200              1                    0              1             2   \n",
              "1201              0                    0              1             2   \n",
              "1202              1                    0              0             1   \n",
              "1203              1                    0              1             2   \n",
              "1204              1                    1              0             1   \n",
              "\n",
              "      class_duration  self_lms  device  adaptivity_level  \n",
              "0                  2         0       2                 2  \n",
              "1                  1         1       1                 2  \n",
              "2                  1         0       1                 2  \n",
              "3                  1         0       1                 2  \n",
              "4                  0         0       1                 1  \n",
              "...              ...       ...     ...               ...  \n",
              "1200               1         0       1                 1  \n",
              "1201               2         0       1                 2  \n",
              "1202               1         0       1                 2  \n",
              "1203               1         0       1                 1  \n",
              "1204               1         0       1                 2  \n",
              "\n",
              "[1205 rows x 14 columns]"
            ],
            "text/html": [
              "\n",
              "  <div id=\"df-5d718d26-e974-4162-a847-e03728ba4ef9\">\n",
              "    <div class=\"colab-df-container\">\n",
              "      <div>\n",
              "<style scoped>\n",
              "    .dataframe tbody tr th:only-of-type {\n",
              "        vertical-align: middle;\n",
              "    }\n",
              "\n",
              "    .dataframe tbody tr th {\n",
              "        vertical-align: top;\n",
              "    }\n",
              "\n",
              "    .dataframe thead th {\n",
              "        text-align: right;\n",
              "    }\n",
              "</style>\n",
              "<table border=\"1\" class=\"dataframe\">\n",
              "  <thead>\n",
              "    <tr style=\"text-align: right;\">\n",
              "      <th></th>\n",
              "      <th>gender</th>\n",
              "      <th>age</th>\n",
              "      <th>education_level</th>\n",
              "      <th>institution_type</th>\n",
              "      <th>it_student</th>\n",
              "      <th>location</th>\n",
              "      <th>load-shedding</th>\n",
              "      <th>financial_condition</th>\n",
              "      <th>internet_type</th>\n",
              "      <th>network_type</th>\n",
              "      <th>class_duration</th>\n",
              "      <th>self_lms</th>\n",
              "      <th>device</th>\n",
              "      <th>adaptivity_level</th>\n",
              "    </tr>\n",
              "  </thead>\n",
              "  <tbody>\n",
              "    <tr>\n",
              "      <th>0</th>\n",
              "      <td>0</td>\n",
              "      <td>3</td>\n",
              "      <td>2</td>\n",
              "      <td>1</td>\n",
              "      <td>0</td>\n",
              "      <td>1</td>\n",
              "      <td>1</td>\n",
              "      <td>0</td>\n",
              "      <td>1</td>\n",
              "      <td>2</td>\n",
              "      <td>2</td>\n",
              "      <td>0</td>\n",
              "      <td>2</td>\n",
              "      <td>2</td>\n",
              "    </tr>\n",
              "    <tr>\n",
              "      <th>1</th>\n",
              "      <td>1</td>\n",
              "      <td>3</td>\n",
              "      <td>2</td>\n",
              "      <td>1</td>\n",
              "      <td>0</td>\n",
              "      <td>1</td>\n",
              "      <td>0</td>\n",
              "      <td>0</td>\n",
              "      <td>0</td>\n",
              "      <td>2</td>\n",
              "      <td>1</td>\n",
              "      <td>1</td>\n",
              "      <td>1</td>\n",
              "      <td>2</td>\n",
              "    </tr>\n",
              "    <tr>\n",
              "      <th>2</th>\n",
              "      <td>1</td>\n",
              "      <td>2</td>\n",
              "      <td>0</td>\n",
              "      <td>0</td>\n",
              "      <td>0</td>\n",
              "      <td>1</td>\n",
              "      <td>1</td>\n",
              "      <td>0</td>\n",
              "      <td>1</td>\n",
              "      <td>2</td>\n",
              "      <td>1</td>\n",
              "      <td>0</td>\n",
              "      <td>1</td>\n",
              "      <td>2</td>\n",
              "    </tr>\n",
              "    <tr>\n",
              "      <th>3</th>\n",
              "      <td>1</td>\n",
              "      <td>1</td>\n",
              "      <td>1</td>\n",
              "      <td>1</td>\n",
              "      <td>0</td>\n",
              "      <td>1</td>\n",
              "      <td>1</td>\n",
              "      <td>0</td>\n",
              "      <td>0</td>\n",
              "      <td>2</td>\n",
              "      <td>1</td>\n",
              "      <td>0</td>\n",
              "      <td>1</td>\n",
              "      <td>2</td>\n",
              "    </tr>\n",
              "    <tr>\n",
              "      <th>4</th>\n",
              "      <td>1</td>\n",
              "      <td>2</td>\n",
              "      <td>1</td>\n",
              "      <td>1</td>\n",
              "      <td>0</td>\n",
              "      <td>1</td>\n",
              "      <td>1</td>\n",
              "      <td>1</td>\n",
              "      <td>0</td>\n",
              "      <td>1</td>\n",
              "      <td>0</td>\n",
              "      <td>0</td>\n",
              "      <td>1</td>\n",
              "      <td>1</td>\n",
              "    </tr>\n",
              "    <tr>\n",
              "      <th>...</th>\n",
              "      <td>...</td>\n",
              "      <td>...</td>\n",
              "      <td>...</td>\n",
              "      <td>...</td>\n",
              "      <td>...</td>\n",
              "      <td>...</td>\n",
              "      <td>...</td>\n",
              "      <td>...</td>\n",
              "      <td>...</td>\n",
              "      <td>...</td>\n",
              "      <td>...</td>\n",
              "      <td>...</td>\n",
              "      <td>...</td>\n",
              "      <td>...</td>\n",
              "    </tr>\n",
              "    <tr>\n",
              "      <th>1200</th>\n",
              "      <td>1</td>\n",
              "      <td>2</td>\n",
              "      <td>0</td>\n",
              "      <td>1</td>\n",
              "      <td>0</td>\n",
              "      <td>1</td>\n",
              "      <td>1</td>\n",
              "      <td>0</td>\n",
              "      <td>1</td>\n",
              "      <td>2</td>\n",
              "      <td>1</td>\n",
              "      <td>0</td>\n",
              "      <td>1</td>\n",
              "      <td>1</td>\n",
              "    </tr>\n",
              "    <tr>\n",
              "      <th>1201</th>\n",
              "      <td>1</td>\n",
              "      <td>2</td>\n",
              "      <td>0</td>\n",
              "      <td>1</td>\n",
              "      <td>0</td>\n",
              "      <td>0</td>\n",
              "      <td>0</td>\n",
              "      <td>0</td>\n",
              "      <td>1</td>\n",
              "      <td>2</td>\n",
              "      <td>2</td>\n",
              "      <td>0</td>\n",
              "      <td>1</td>\n",
              "      <td>2</td>\n",
              "    </tr>\n",
              "    <tr>\n",
              "      <th>1202</th>\n",
              "      <td>0</td>\n",
              "      <td>1</td>\n",
              "      <td>1</td>\n",
              "      <td>1</td>\n",
              "      <td>0</td>\n",
              "      <td>1</td>\n",
              "      <td>1</td>\n",
              "      <td>0</td>\n",
              "      <td>0</td>\n",
              "      <td>1</td>\n",
              "      <td>1</td>\n",
              "      <td>0</td>\n",
              "      <td>1</td>\n",
              "      <td>2</td>\n",
              "    </tr>\n",
              "    <tr>\n",
              "      <th>1203</th>\n",
              "      <td>1</td>\n",
              "      <td>2</td>\n",
              "      <td>0</td>\n",
              "      <td>1</td>\n",
              "      <td>0</td>\n",
              "      <td>0</td>\n",
              "      <td>1</td>\n",
              "      <td>0</td>\n",
              "      <td>1</td>\n",
              "      <td>2</td>\n",
              "      <td>1</td>\n",
              "      <td>0</td>\n",
              "      <td>1</td>\n",
              "      <td>1</td>\n",
              "    </tr>\n",
              "    <tr>\n",
              "      <th>1204</th>\n",
              "      <td>1</td>\n",
              "      <td>1</td>\n",
              "      <td>1</td>\n",
              "      <td>1</td>\n",
              "      <td>0</td>\n",
              "      <td>1</td>\n",
              "      <td>1</td>\n",
              "      <td>1</td>\n",
              "      <td>0</td>\n",
              "      <td>1</td>\n",
              "      <td>1</td>\n",
              "      <td>0</td>\n",
              "      <td>1</td>\n",
              "      <td>2</td>\n",
              "    </tr>\n",
              "  </tbody>\n",
              "</table>\n",
              "<p>1205 rows × 14 columns</p>\n",
              "</div>\n",
              "      <button class=\"colab-df-convert\" onclick=\"convertToInteractive('df-5d718d26-e974-4162-a847-e03728ba4ef9')\"\n",
              "              title=\"Convert this dataframe to an interactive table.\"\n",
              "              style=\"display:none;\">\n",
              "        \n",
              "  <svg xmlns=\"http://www.w3.org/2000/svg\" height=\"24px\"viewBox=\"0 0 24 24\"\n",
              "       width=\"24px\">\n",
              "    <path d=\"M0 0h24v24H0V0z\" fill=\"none\"/>\n",
              "    <path d=\"M18.56 5.44l.94 2.06.94-2.06 2.06-.94-2.06-.94-.94-2.06-.94 2.06-2.06.94zm-11 1L8.5 8.5l.94-2.06 2.06-.94-2.06-.94L8.5 2.5l-.94 2.06-2.06.94zm10 10l.94 2.06.94-2.06 2.06-.94-2.06-.94-.94-2.06-.94 2.06-2.06.94z\"/><path d=\"M17.41 7.96l-1.37-1.37c-.4-.4-.92-.59-1.43-.59-.52 0-1.04.2-1.43.59L10.3 9.45l-7.72 7.72c-.78.78-.78 2.05 0 2.83L4 21.41c.39.39.9.59 1.41.59.51 0 1.02-.2 1.41-.59l7.78-7.78 2.81-2.81c.8-.78.8-2.07 0-2.86zM5.41 20L4 18.59l7.72-7.72 1.47 1.35L5.41 20z\"/>\n",
              "  </svg>\n",
              "      </button>\n",
              "      \n",
              "  <style>\n",
              "    .colab-df-container {\n",
              "      display:flex;\n",
              "      flex-wrap:wrap;\n",
              "      gap: 12px;\n",
              "    }\n",
              "\n",
              "    .colab-df-convert {\n",
              "      background-color: #E8F0FE;\n",
              "      border: none;\n",
              "      border-radius: 50%;\n",
              "      cursor: pointer;\n",
              "      display: none;\n",
              "      fill: #1967D2;\n",
              "      height: 32px;\n",
              "      padding: 0 0 0 0;\n",
              "      width: 32px;\n",
              "    }\n",
              "\n",
              "    .colab-df-convert:hover {\n",
              "      background-color: #E2EBFA;\n",
              "      box-shadow: 0px 1px 2px rgba(60, 64, 67, 0.3), 0px 1px 3px 1px rgba(60, 64, 67, 0.15);\n",
              "      fill: #174EA6;\n",
              "    }\n",
              "\n",
              "    [theme=dark] .colab-df-convert {\n",
              "      background-color: #3B4455;\n",
              "      fill: #D2E3FC;\n",
              "    }\n",
              "\n",
              "    [theme=dark] .colab-df-convert:hover {\n",
              "      background-color: #434B5C;\n",
              "      box-shadow: 0px 1px 3px 1px rgba(0, 0, 0, 0.15);\n",
              "      filter: drop-shadow(0px 1px 2px rgba(0, 0, 0, 0.3));\n",
              "      fill: #FFFFFF;\n",
              "    }\n",
              "  </style>\n",
              "\n",
              "      <script>\n",
              "        const buttonEl =\n",
              "          document.querySelector('#df-5d718d26-e974-4162-a847-e03728ba4ef9 button.colab-df-convert');\n",
              "        buttonEl.style.display =\n",
              "          google.colab.kernel.accessAllowed ? 'block' : 'none';\n",
              "\n",
              "        async function convertToInteractive(key) {\n",
              "          const element = document.querySelector('#df-5d718d26-e974-4162-a847-e03728ba4ef9');\n",
              "          const dataTable =\n",
              "            await google.colab.kernel.invokeFunction('convertToInteractive',\n",
              "                                                     [key], {});\n",
              "          if (!dataTable) return;\n",
              "\n",
              "          const docLinkHtml = 'Like what you see? Visit the ' +\n",
              "            '<a target=\"_blank\" href=https://colab.research.google.com/notebooks/data_table.ipynb>data table notebook</a>'\n",
              "            + ' to learn more about interactive tables.';\n",
              "          element.innerHTML = '';\n",
              "          dataTable['output_type'] = 'display_data';\n",
              "          await google.colab.output.renderOutput(dataTable, element);\n",
              "          const docLink = document.createElement('div');\n",
              "          docLink.innerHTML = docLinkHtml;\n",
              "          element.appendChild(docLink);\n",
              "        }\n",
              "      </script>\n",
              "    </div>\n",
              "  </div>\n",
              "  "
            ]
          },
          "metadata": {},
          "execution_count": 48
        }
      ]
    },
    {
      "cell_type": "code",
      "source": [
        "#splitting dataset to features and label\n",
        "X = stud_enc.drop(['adaptivity_level'], axis=1)\n",
        "y = stud_enc['adaptivity_level']"
      ],
      "metadata": {
        "id": "psmfZzNewzZx"
      },
      "execution_count": null,
      "outputs": []
    },
    {
      "cell_type": "code",
      "source": [
        "from sklearn.discriminant_analysis import LinearDiscriminantAnalysis as LDA\n",
        "lda = LDA()\n",
        "lda_ = lda.fit(X, y)\n",
        "\n",
        "lda_.coef_[0]\n"
      ],
      "metadata": {
        "colab": {
          "base_uri": "https://localhost:8080/"
        },
        "outputId": "80861adf-3202-4324-db7f-c1bdd835d336",
        "id": "LKmV3VoUwzZz"
      },
      "execution_count": null,
      "outputs": [
        {
          "output_type": "execute_result",
          "data": {
            "text/plain": [
              "array([-0.63327793,  0.6977972 , -0.3332872 ,  1.01419786, -0.65977121,\n",
              "        0.582106  ,  0.51873343,  2.47057007,  0.28712657,  0.7468    ,\n",
              "       -0.08626882,  1.3038031 , -0.80828292])"
            ]
          },
          "metadata": {},
          "execution_count": 50
        }
      ]
    },
    {
      "cell_type": "code",
      "source": [
        "#finding features the coefficients correspond to \n",
        "pd.DataFrame(index=X.columns.values, data=lda_.coef_[0])"
      ],
      "metadata": {
        "colab": {
          "base_uri": "https://localhost:8080/",
          "height": 457
        },
        "id": "0PCKHCFWgQy3",
        "outputId": "c6723adc-d87f-4368-bafb-81f2c1f09745"
      },
      "execution_count": null,
      "outputs": [
        {
          "output_type": "execute_result",
          "data": {
            "text/plain": [
              "                            0\n",
              "gender              -0.633278\n",
              "age                  0.697797\n",
              "education_level     -0.333287\n",
              "institution_type     1.014198\n",
              "it_student          -0.659771\n",
              "location             0.582106\n",
              "load-shedding        0.518733\n",
              "financial_condition  2.470570\n",
              "internet_type        0.287127\n",
              "network_type         0.746800\n",
              "class_duration      -0.086269\n",
              "self_lms             1.303803\n",
              "device              -0.808283"
            ],
            "text/html": [
              "\n",
              "  <div id=\"df-e2ec1dff-a401-4eab-8893-25a7a1a2dfb4\">\n",
              "    <div class=\"colab-df-container\">\n",
              "      <div>\n",
              "<style scoped>\n",
              "    .dataframe tbody tr th:only-of-type {\n",
              "        vertical-align: middle;\n",
              "    }\n",
              "\n",
              "    .dataframe tbody tr th {\n",
              "        vertical-align: top;\n",
              "    }\n",
              "\n",
              "    .dataframe thead th {\n",
              "        text-align: right;\n",
              "    }\n",
              "</style>\n",
              "<table border=\"1\" class=\"dataframe\">\n",
              "  <thead>\n",
              "    <tr style=\"text-align: right;\">\n",
              "      <th></th>\n",
              "      <th>0</th>\n",
              "    </tr>\n",
              "  </thead>\n",
              "  <tbody>\n",
              "    <tr>\n",
              "      <th>gender</th>\n",
              "      <td>-0.633278</td>\n",
              "    </tr>\n",
              "    <tr>\n",
              "      <th>age</th>\n",
              "      <td>0.697797</td>\n",
              "    </tr>\n",
              "    <tr>\n",
              "      <th>education_level</th>\n",
              "      <td>-0.333287</td>\n",
              "    </tr>\n",
              "    <tr>\n",
              "      <th>institution_type</th>\n",
              "      <td>1.014198</td>\n",
              "    </tr>\n",
              "    <tr>\n",
              "      <th>it_student</th>\n",
              "      <td>-0.659771</td>\n",
              "    </tr>\n",
              "    <tr>\n",
              "      <th>location</th>\n",
              "      <td>0.582106</td>\n",
              "    </tr>\n",
              "    <tr>\n",
              "      <th>load-shedding</th>\n",
              "      <td>0.518733</td>\n",
              "    </tr>\n",
              "    <tr>\n",
              "      <th>financial_condition</th>\n",
              "      <td>2.470570</td>\n",
              "    </tr>\n",
              "    <tr>\n",
              "      <th>internet_type</th>\n",
              "      <td>0.287127</td>\n",
              "    </tr>\n",
              "    <tr>\n",
              "      <th>network_type</th>\n",
              "      <td>0.746800</td>\n",
              "    </tr>\n",
              "    <tr>\n",
              "      <th>class_duration</th>\n",
              "      <td>-0.086269</td>\n",
              "    </tr>\n",
              "    <tr>\n",
              "      <th>self_lms</th>\n",
              "      <td>1.303803</td>\n",
              "    </tr>\n",
              "    <tr>\n",
              "      <th>device</th>\n",
              "      <td>-0.808283</td>\n",
              "    </tr>\n",
              "  </tbody>\n",
              "</table>\n",
              "</div>\n",
              "      <button class=\"colab-df-convert\" onclick=\"convertToInteractive('df-e2ec1dff-a401-4eab-8893-25a7a1a2dfb4')\"\n",
              "              title=\"Convert this dataframe to an interactive table.\"\n",
              "              style=\"display:none;\">\n",
              "        \n",
              "  <svg xmlns=\"http://www.w3.org/2000/svg\" height=\"24px\"viewBox=\"0 0 24 24\"\n",
              "       width=\"24px\">\n",
              "    <path d=\"M0 0h24v24H0V0z\" fill=\"none\"/>\n",
              "    <path d=\"M18.56 5.44l.94 2.06.94-2.06 2.06-.94-2.06-.94-.94-2.06-.94 2.06-2.06.94zm-11 1L8.5 8.5l.94-2.06 2.06-.94-2.06-.94L8.5 2.5l-.94 2.06-2.06.94zm10 10l.94 2.06.94-2.06 2.06-.94-2.06-.94-.94-2.06-.94 2.06-2.06.94z\"/><path d=\"M17.41 7.96l-1.37-1.37c-.4-.4-.92-.59-1.43-.59-.52 0-1.04.2-1.43.59L10.3 9.45l-7.72 7.72c-.78.78-.78 2.05 0 2.83L4 21.41c.39.39.9.59 1.41.59.51 0 1.02-.2 1.41-.59l7.78-7.78 2.81-2.81c.8-.78.8-2.07 0-2.86zM5.41 20L4 18.59l7.72-7.72 1.47 1.35L5.41 20z\"/>\n",
              "  </svg>\n",
              "      </button>\n",
              "      \n",
              "  <style>\n",
              "    .colab-df-container {\n",
              "      display:flex;\n",
              "      flex-wrap:wrap;\n",
              "      gap: 12px;\n",
              "    }\n",
              "\n",
              "    .colab-df-convert {\n",
              "      background-color: #E8F0FE;\n",
              "      border: none;\n",
              "      border-radius: 50%;\n",
              "      cursor: pointer;\n",
              "      display: none;\n",
              "      fill: #1967D2;\n",
              "      height: 32px;\n",
              "      padding: 0 0 0 0;\n",
              "      width: 32px;\n",
              "    }\n",
              "\n",
              "    .colab-df-convert:hover {\n",
              "      background-color: #E2EBFA;\n",
              "      box-shadow: 0px 1px 2px rgba(60, 64, 67, 0.3), 0px 1px 3px 1px rgba(60, 64, 67, 0.15);\n",
              "      fill: #174EA6;\n",
              "    }\n",
              "\n",
              "    [theme=dark] .colab-df-convert {\n",
              "      background-color: #3B4455;\n",
              "      fill: #D2E3FC;\n",
              "    }\n",
              "\n",
              "    [theme=dark] .colab-df-convert:hover {\n",
              "      background-color: #434B5C;\n",
              "      box-shadow: 0px 1px 3px 1px rgba(0, 0, 0, 0.15);\n",
              "      filter: drop-shadow(0px 1px 2px rgba(0, 0, 0, 0.3));\n",
              "      fill: #FFFFFF;\n",
              "    }\n",
              "  </style>\n",
              "\n",
              "      <script>\n",
              "        const buttonEl =\n",
              "          document.querySelector('#df-e2ec1dff-a401-4eab-8893-25a7a1a2dfb4 button.colab-df-convert');\n",
              "        buttonEl.style.display =\n",
              "          google.colab.kernel.accessAllowed ? 'block' : 'none';\n",
              "\n",
              "        async function convertToInteractive(key) {\n",
              "          const element = document.querySelector('#df-e2ec1dff-a401-4eab-8893-25a7a1a2dfb4');\n",
              "          const dataTable =\n",
              "            await google.colab.kernel.invokeFunction('convertToInteractive',\n",
              "                                                     [key], {});\n",
              "          if (!dataTable) return;\n",
              "\n",
              "          const docLinkHtml = 'Like what you see? Visit the ' +\n",
              "            '<a target=\"_blank\" href=https://colab.research.google.com/notebooks/data_table.ipynb>data table notebook</a>'\n",
              "            + ' to learn more about interactive tables.';\n",
              "          element.innerHTML = '';\n",
              "          dataTable['output_type'] = 'display_data';\n",
              "          await google.colab.output.renderOutput(dataTable, element);\n",
              "          const docLink = document.createElement('div');\n",
              "          docLink.innerHTML = docLinkHtml;\n",
              "          element.appendChild(docLink);\n",
              "        }\n",
              "      </script>\n",
              "    </div>\n",
              "  </div>\n",
              "  "
            ]
          },
          "metadata": {},
          "execution_count": 51
        }
      ]
    },
    {
      "cell_type": "code",
      "source": [
        "#sign of the coefficient\n",
        "def sign(x):\n",
        "  if x > 0:\n",
        "    return 'positive'\n",
        "  else:\n",
        "    return 'negative'"
      ],
      "metadata": {
        "id": "3aAYLYpmytGl"
      },
      "execution_count": null,
      "outputs": []
    },
    {
      "cell_type": "code",
      "source": [
        "#Ranking\n",
        "#the higher the absolute value of the coefficient of a feature the greater\n",
        "#its contribution to discriminating between the groups \n",
        "\n",
        "abs_coeff = pd.DataFrame(pd.DataFrame(index=X.columns.values, data=lda_.coef_[0])[0].apply( lambda x: abs(x)))\n",
        "abs_coeff['sign'] = pd.DataFrame(index=X.columns.values, data=lda_.coef_[0])[0].apply( lambda x: sign(x))\n",
        "abs_coeff.sort_values(by=0, ascending = False)"
      ],
      "metadata": {
        "colab": {
          "base_uri": "https://localhost:8080/",
          "height": 457
        },
        "id": "tCkq9GYfv1Rj",
        "outputId": "4326496d-8f0d-40cf-f454-16daec5b5402"
      },
      "execution_count": null,
      "outputs": [
        {
          "output_type": "execute_result",
          "data": {
            "text/plain": [
              "                            0      sign\n",
              "financial_condition  2.470570  positive\n",
              "self_lms             1.303803  positive\n",
              "institution_type     1.014198  positive\n",
              "device               0.808283  negative\n",
              "network_type         0.746800  positive\n",
              "age                  0.697797  positive\n",
              "it_student           0.659771  negative\n",
              "gender               0.633278  negative\n",
              "location             0.582106  positive\n",
              "load-shedding        0.518733  positive\n",
              "education_level      0.333287  negative\n",
              "internet_type        0.287127  positive\n",
              "class_duration       0.086269  negative"
            ],
            "text/html": [
              "\n",
              "  <div id=\"df-cee2ee4e-b363-40bf-93de-a215522031cf\">\n",
              "    <div class=\"colab-df-container\">\n",
              "      <div>\n",
              "<style scoped>\n",
              "    .dataframe tbody tr th:only-of-type {\n",
              "        vertical-align: middle;\n",
              "    }\n",
              "\n",
              "    .dataframe tbody tr th {\n",
              "        vertical-align: top;\n",
              "    }\n",
              "\n",
              "    .dataframe thead th {\n",
              "        text-align: right;\n",
              "    }\n",
              "</style>\n",
              "<table border=\"1\" class=\"dataframe\">\n",
              "  <thead>\n",
              "    <tr style=\"text-align: right;\">\n",
              "      <th></th>\n",
              "      <th>0</th>\n",
              "      <th>sign</th>\n",
              "    </tr>\n",
              "  </thead>\n",
              "  <tbody>\n",
              "    <tr>\n",
              "      <th>financial_condition</th>\n",
              "      <td>2.470570</td>\n",
              "      <td>positive</td>\n",
              "    </tr>\n",
              "    <tr>\n",
              "      <th>self_lms</th>\n",
              "      <td>1.303803</td>\n",
              "      <td>positive</td>\n",
              "    </tr>\n",
              "    <tr>\n",
              "      <th>institution_type</th>\n",
              "      <td>1.014198</td>\n",
              "      <td>positive</td>\n",
              "    </tr>\n",
              "    <tr>\n",
              "      <th>device</th>\n",
              "      <td>0.808283</td>\n",
              "      <td>negative</td>\n",
              "    </tr>\n",
              "    <tr>\n",
              "      <th>network_type</th>\n",
              "      <td>0.746800</td>\n",
              "      <td>positive</td>\n",
              "    </tr>\n",
              "    <tr>\n",
              "      <th>age</th>\n",
              "      <td>0.697797</td>\n",
              "      <td>positive</td>\n",
              "    </tr>\n",
              "    <tr>\n",
              "      <th>it_student</th>\n",
              "      <td>0.659771</td>\n",
              "      <td>negative</td>\n",
              "    </tr>\n",
              "    <tr>\n",
              "      <th>gender</th>\n",
              "      <td>0.633278</td>\n",
              "      <td>negative</td>\n",
              "    </tr>\n",
              "    <tr>\n",
              "      <th>location</th>\n",
              "      <td>0.582106</td>\n",
              "      <td>positive</td>\n",
              "    </tr>\n",
              "    <tr>\n",
              "      <th>load-shedding</th>\n",
              "      <td>0.518733</td>\n",
              "      <td>positive</td>\n",
              "    </tr>\n",
              "    <tr>\n",
              "      <th>education_level</th>\n",
              "      <td>0.333287</td>\n",
              "      <td>negative</td>\n",
              "    </tr>\n",
              "    <tr>\n",
              "      <th>internet_type</th>\n",
              "      <td>0.287127</td>\n",
              "      <td>positive</td>\n",
              "    </tr>\n",
              "    <tr>\n",
              "      <th>class_duration</th>\n",
              "      <td>0.086269</td>\n",
              "      <td>negative</td>\n",
              "    </tr>\n",
              "  </tbody>\n",
              "</table>\n",
              "</div>\n",
              "      <button class=\"colab-df-convert\" onclick=\"convertToInteractive('df-cee2ee4e-b363-40bf-93de-a215522031cf')\"\n",
              "              title=\"Convert this dataframe to an interactive table.\"\n",
              "              style=\"display:none;\">\n",
              "        \n",
              "  <svg xmlns=\"http://www.w3.org/2000/svg\" height=\"24px\"viewBox=\"0 0 24 24\"\n",
              "       width=\"24px\">\n",
              "    <path d=\"M0 0h24v24H0V0z\" fill=\"none\"/>\n",
              "    <path d=\"M18.56 5.44l.94 2.06.94-2.06 2.06-.94-2.06-.94-.94-2.06-.94 2.06-2.06.94zm-11 1L8.5 8.5l.94-2.06 2.06-.94-2.06-.94L8.5 2.5l-.94 2.06-2.06.94zm10 10l.94 2.06.94-2.06 2.06-.94-2.06-.94-.94-2.06-.94 2.06-2.06.94z\"/><path d=\"M17.41 7.96l-1.37-1.37c-.4-.4-.92-.59-1.43-.59-.52 0-1.04.2-1.43.59L10.3 9.45l-7.72 7.72c-.78.78-.78 2.05 0 2.83L4 21.41c.39.39.9.59 1.41.59.51 0 1.02-.2 1.41-.59l7.78-7.78 2.81-2.81c.8-.78.8-2.07 0-2.86zM5.41 20L4 18.59l7.72-7.72 1.47 1.35L5.41 20z\"/>\n",
              "  </svg>\n",
              "      </button>\n",
              "      \n",
              "  <style>\n",
              "    .colab-df-container {\n",
              "      display:flex;\n",
              "      flex-wrap:wrap;\n",
              "      gap: 12px;\n",
              "    }\n",
              "\n",
              "    .colab-df-convert {\n",
              "      background-color: #E8F0FE;\n",
              "      border: none;\n",
              "      border-radius: 50%;\n",
              "      cursor: pointer;\n",
              "      display: none;\n",
              "      fill: #1967D2;\n",
              "      height: 32px;\n",
              "      padding: 0 0 0 0;\n",
              "      width: 32px;\n",
              "    }\n",
              "\n",
              "    .colab-df-convert:hover {\n",
              "      background-color: #E2EBFA;\n",
              "      box-shadow: 0px 1px 2px rgba(60, 64, 67, 0.3), 0px 1px 3px 1px rgba(60, 64, 67, 0.15);\n",
              "      fill: #174EA6;\n",
              "    }\n",
              "\n",
              "    [theme=dark] .colab-df-convert {\n",
              "      background-color: #3B4455;\n",
              "      fill: #D2E3FC;\n",
              "    }\n",
              "\n",
              "    [theme=dark] .colab-df-convert:hover {\n",
              "      background-color: #434B5C;\n",
              "      box-shadow: 0px 1px 3px 1px rgba(0, 0, 0, 0.15);\n",
              "      filter: drop-shadow(0px 1px 2px rgba(0, 0, 0, 0.3));\n",
              "      fill: #FFFFFF;\n",
              "    }\n",
              "  </style>\n",
              "\n",
              "      <script>\n",
              "        const buttonEl =\n",
              "          document.querySelector('#df-cee2ee4e-b363-40bf-93de-a215522031cf button.colab-df-convert');\n",
              "        buttonEl.style.display =\n",
              "          google.colab.kernel.accessAllowed ? 'block' : 'none';\n",
              "\n",
              "        async function convertToInteractive(key) {\n",
              "          const element = document.querySelector('#df-cee2ee4e-b363-40bf-93de-a215522031cf');\n",
              "          const dataTable =\n",
              "            await google.colab.kernel.invokeFunction('convertToInteractive',\n",
              "                                                     [key], {});\n",
              "          if (!dataTable) return;\n",
              "\n",
              "          const docLinkHtml = 'Like what you see? Visit the ' +\n",
              "            '<a target=\"_blank\" href=https://colab.research.google.com/notebooks/data_table.ipynb>data table notebook</a>'\n",
              "            + ' to learn more about interactive tables.';\n",
              "          element.innerHTML = '';\n",
              "          dataTable['output_type'] = 'display_data';\n",
              "          await google.colab.output.renderOutput(dataTable, element);\n",
              "          const docLink = document.createElement('div');\n",
              "          docLink.innerHTML = docLinkHtml;\n",
              "          element.appendChild(docLink);\n",
              "        }\n",
              "      </script>\n",
              "    </div>\n",
              "  </div>\n",
              "  "
            ]
          },
          "metadata": {},
          "execution_count": 53
        }
      ]
    },
    {
      "cell_type": "markdown",
      "source": [
        "## 5.0 Sampling"
      ],
      "metadata": {
        "id": "DCFulhVIQGxh"
      }
    },
    {
      "cell_type": "markdown",
      "source": [
        "#### Why sampling and method chosen"
      ],
      "metadata": {
        "id": "UzU_odtMQfh3"
      }
    },
    {
      "cell_type": "markdown",
      "source": [
        "We would like to carry out a Pearson chi-squared test to test for the existence of a relationship between the gender of a student and their financial condition.\n",
        "For this test, a sample size less than 50 ([reference](https://passel2.unl.edu/view/lesson/9beaa382bf7e/14#:~:text=Another%20consideration%20one%20must%20make,recommend%20using%20Fisher's%20exact%20test.)) or ~500 or greater  ([reference](https://www.statisticssolutions.com/free-resources/directory-of-statistical-analyses/using-chi-square-statistic-in-research/)) may affect the reliability of the p-value obtained. Given that the dataset has 1205 rows, we will obtain a smaller sample size (20%) to carry out the test.\n",
        "\n",
        "The sampling method will be stratified sampling. This is so that the proportions of the different genders and financial conditions in the dataset are equally represented in the sample."
      ],
      "metadata": {
        "id": "v9EiqjgmQsVu"
      }
    },
    {
      "cell_type": "markdown",
      "source": [
        "#### Process"
      ],
      "metadata": {
        "id": "VIIdfU72Qq8g"
      }
    },
    {
      "cell_type": "code",
      "source": [
        "sample = students.groupby(['gender','financial_condition'], group_keys=False).apply(lambda grouped_subset : grouped_subset.sample(frac=0.2))\n",
        "# proportion of the non_stratified plus stratified sample\n",
        "print('Proportions in dataset')\n",
        "print(round((students['financial_condition'].value_counts()/1205), 2))\n",
        "\n",
        "print(round((students['gender'].value_counts()/1205), 2))\n",
        "print('')\n",
        "print('************************')\n",
        "#proportion of stratified\n",
        "print('Proportions in sample')\n",
        "print(round((sample['financial_condition'].value_counts()/241), 2))\n",
        "\n",
        "print(round((sample['gender'].value_counts()/241), 2))\n"
      ],
      "metadata": {
        "colab": {
          "base_uri": "https://localhost:8080/"
        },
        "id": "CBryk_Uy-KbH",
        "outputId": "1b71ae61-d16a-47ce-fbfa-0969bee28101"
      },
      "execution_count": null,
      "outputs": [
        {
          "output_type": "stream",
          "name": "stdout",
          "text": [
            "Proportions in dataset\n",
            "Mid     0.73\n",
            "Poor    0.20\n",
            "Rich    0.07\n",
            "Name: financial_condition, dtype: float64\n",
            "Boy     0.55\n",
            "Girl    0.45\n",
            "Name: gender, dtype: float64\n",
            "\n",
            "************************\n",
            "Proportions in sample\n",
            "Mid     0.73\n",
            "Poor    0.20\n",
            "Rich    0.07\n",
            "Name: financial_condition, dtype: float64\n",
            "Boy     0.55\n",
            "Girl    0.45\n",
            "Name: gender, dtype: float64\n"
          ]
        }
      ]
    },
    {
      "cell_type": "markdown",
      "source": [
        "## 6.0 Hypothesis test"
      ],
      "metadata": {
        "id": "KBL0t59RSI6G"
      }
    },
    {
      "cell_type": "markdown",
      "source": [
        "#### 1. Stating the null and alternative hypothesis"
      ],
      "metadata": {
        "id": "hqjxl3qOSg3L"
      }
    },
    {
      "cell_type": "markdown",
      "source": [
        "**Null hypothesis**\n",
        "\n",
        "Ho : There is no significant relationship between the gender of the student and their financial condition.\n",
        "\n",
        "**Alternative hypothesis**\n",
        "\n",
        "Ha : There is a significant relationship between the gender of the student and their financial condition. (claim)\n"
      ],
      "metadata": {
        "id": "XUdzKH1UKpzp"
      }
    },
    {
      "cell_type": "markdown",
      "source": [
        "#### 2. Setting the significance level "
      ],
      "metadata": {
        "id": "tPu0fakCGl8w"
      }
    },
    {
      "cell_type": "markdown",
      "source": [
        "The significance level a = 0.05. If the probability of the null hypothesis being true falls below this level the null is rejected."
      ],
      "metadata": {
        "id": "yhgSloaoMLxm"
      }
    },
    {
      "cell_type": "markdown",
      "source": [
        "#### 3. Calculating the test statistic and corresponding p value"
      ],
      "metadata": {
        "id": "8c6aZiF9GwhQ"
      }
    },
    {
      "cell_type": "markdown",
      "source": [
        "##### Choosing test statistic "
      ],
      "metadata": {
        "id": "et7oSPos59WS"
      }
    },
    {
      "cell_type": "markdown",
      "source": [
        "The test that will be used is Pearson's chi-squared statistic. This is because we want to test for the existence of a statistically significant relationship between two categorical variables (gender and education level)."
      ],
      "metadata": {
        "id": "n3PrAN8zTdhm"
      }
    },
    {
      "cell_type": "markdown",
      "source": [
        "##### Calculation of test statistic"
      ],
      "metadata": {
        "id": "s1qPhqZSTCFE"
      }
    },
    {
      "cell_type": "code",
      "source": [
        "#creating contingency table, using our sample\n",
        "table = pd.crosstab(index=sample['gender'], columns=sample['financial_condition'])\n",
        "table"
      ],
      "metadata": {
        "id": "rjn5z7UrJPn5",
        "colab": {
          "base_uri": "https://localhost:8080/",
          "height": 144
        },
        "outputId": "e74da1a0-d6fe-4da3-de9b-e847cd058df2"
      },
      "execution_count": null,
      "outputs": [
        {
          "output_type": "execute_result",
          "data": {
            "text/plain": [
              "financial_condition  Mid  Poor  Rich\n",
              "gender                              \n",
              "Boy                   96    26    10\n",
              "Girl                  79    23     7"
            ],
            "text/html": [
              "\n",
              "  <div id=\"df-01c0bc75-c696-4e52-81bc-67161eaee3c6\">\n",
              "    <div class=\"colab-df-container\">\n",
              "      <div>\n",
              "<style scoped>\n",
              "    .dataframe tbody tr th:only-of-type {\n",
              "        vertical-align: middle;\n",
              "    }\n",
              "\n",
              "    .dataframe tbody tr th {\n",
              "        vertical-align: top;\n",
              "    }\n",
              "\n",
              "    .dataframe thead th {\n",
              "        text-align: right;\n",
              "    }\n",
              "</style>\n",
              "<table border=\"1\" class=\"dataframe\">\n",
              "  <thead>\n",
              "    <tr style=\"text-align: right;\">\n",
              "      <th>financial_condition</th>\n",
              "      <th>Mid</th>\n",
              "      <th>Poor</th>\n",
              "      <th>Rich</th>\n",
              "    </tr>\n",
              "    <tr>\n",
              "      <th>gender</th>\n",
              "      <th></th>\n",
              "      <th></th>\n",
              "      <th></th>\n",
              "    </tr>\n",
              "  </thead>\n",
              "  <tbody>\n",
              "    <tr>\n",
              "      <th>Boy</th>\n",
              "      <td>96</td>\n",
              "      <td>26</td>\n",
              "      <td>10</td>\n",
              "    </tr>\n",
              "    <tr>\n",
              "      <th>Girl</th>\n",
              "      <td>79</td>\n",
              "      <td>23</td>\n",
              "      <td>7</td>\n",
              "    </tr>\n",
              "  </tbody>\n",
              "</table>\n",
              "</div>\n",
              "      <button class=\"colab-df-convert\" onclick=\"convertToInteractive('df-01c0bc75-c696-4e52-81bc-67161eaee3c6')\"\n",
              "              title=\"Convert this dataframe to an interactive table.\"\n",
              "              style=\"display:none;\">\n",
              "        \n",
              "  <svg xmlns=\"http://www.w3.org/2000/svg\" height=\"24px\"viewBox=\"0 0 24 24\"\n",
              "       width=\"24px\">\n",
              "    <path d=\"M0 0h24v24H0V0z\" fill=\"none\"/>\n",
              "    <path d=\"M18.56 5.44l.94 2.06.94-2.06 2.06-.94-2.06-.94-.94-2.06-.94 2.06-2.06.94zm-11 1L8.5 8.5l.94-2.06 2.06-.94-2.06-.94L8.5 2.5l-.94 2.06-2.06.94zm10 10l.94 2.06.94-2.06 2.06-.94-2.06-.94-.94-2.06-.94 2.06-2.06.94z\"/><path d=\"M17.41 7.96l-1.37-1.37c-.4-.4-.92-.59-1.43-.59-.52 0-1.04.2-1.43.59L10.3 9.45l-7.72 7.72c-.78.78-.78 2.05 0 2.83L4 21.41c.39.39.9.59 1.41.59.51 0 1.02-.2 1.41-.59l7.78-7.78 2.81-2.81c.8-.78.8-2.07 0-2.86zM5.41 20L4 18.59l7.72-7.72 1.47 1.35L5.41 20z\"/>\n",
              "  </svg>\n",
              "      </button>\n",
              "      \n",
              "  <style>\n",
              "    .colab-df-container {\n",
              "      display:flex;\n",
              "      flex-wrap:wrap;\n",
              "      gap: 12px;\n",
              "    }\n",
              "\n",
              "    .colab-df-convert {\n",
              "      background-color: #E8F0FE;\n",
              "      border: none;\n",
              "      border-radius: 50%;\n",
              "      cursor: pointer;\n",
              "      display: none;\n",
              "      fill: #1967D2;\n",
              "      height: 32px;\n",
              "      padding: 0 0 0 0;\n",
              "      width: 32px;\n",
              "    }\n",
              "\n",
              "    .colab-df-convert:hover {\n",
              "      background-color: #E2EBFA;\n",
              "      box-shadow: 0px 1px 2px rgba(60, 64, 67, 0.3), 0px 1px 3px 1px rgba(60, 64, 67, 0.15);\n",
              "      fill: #174EA6;\n",
              "    }\n",
              "\n",
              "    [theme=dark] .colab-df-convert {\n",
              "      background-color: #3B4455;\n",
              "      fill: #D2E3FC;\n",
              "    }\n",
              "\n",
              "    [theme=dark] .colab-df-convert:hover {\n",
              "      background-color: #434B5C;\n",
              "      box-shadow: 0px 1px 3px 1px rgba(0, 0, 0, 0.15);\n",
              "      filter: drop-shadow(0px 1px 2px rgba(0, 0, 0, 0.3));\n",
              "      fill: #FFFFFF;\n",
              "    }\n",
              "  </style>\n",
              "\n",
              "      <script>\n",
              "        const buttonEl =\n",
              "          document.querySelector('#df-01c0bc75-c696-4e52-81bc-67161eaee3c6 button.colab-df-convert');\n",
              "        buttonEl.style.display =\n",
              "          google.colab.kernel.accessAllowed ? 'block' : 'none';\n",
              "\n",
              "        async function convertToInteractive(key) {\n",
              "          const element = document.querySelector('#df-01c0bc75-c696-4e52-81bc-67161eaee3c6');\n",
              "          const dataTable =\n",
              "            await google.colab.kernel.invokeFunction('convertToInteractive',\n",
              "                                                     [key], {});\n",
              "          if (!dataTable) return;\n",
              "\n",
              "          const docLinkHtml = 'Like what you see? Visit the ' +\n",
              "            '<a target=\"_blank\" href=https://colab.research.google.com/notebooks/data_table.ipynb>data table notebook</a>'\n",
              "            + ' to learn more about interactive tables.';\n",
              "          element.innerHTML = '';\n",
              "          dataTable['output_type'] = 'display_data';\n",
              "          await google.colab.output.renderOutput(dataTable, element);\n",
              "          const docLink = document.createElement('div');\n",
              "          docLink.innerHTML = docLinkHtml;\n",
              "          element.appendChild(docLink);\n",
              "        }\n",
              "      </script>\n",
              "    </div>\n",
              "  </div>\n",
              "  "
            ]
          },
          "metadata": {},
          "execution_count": 55
        }
      ]
    },
    {
      "cell_type": "code",
      "source": [
        "#computing row totals\n",
        "table['total'] = table.sum(axis=1)\n",
        "table"
      ],
      "metadata": {
        "id": "fv9QEsoO1FoF",
        "colab": {
          "base_uri": "https://localhost:8080/",
          "height": 144
        },
        "outputId": "988d3e9e-2dad-43ed-fe61-b7dd66684bce"
      },
      "execution_count": null,
      "outputs": [
        {
          "output_type": "execute_result",
          "data": {
            "text/plain": [
              "financial_condition  Mid  Poor  Rich  total\n",
              "gender                                     \n",
              "Boy                   96    26    10    132\n",
              "Girl                  79    23     7    109"
            ],
            "text/html": [
              "\n",
              "  <div id=\"df-0425db5b-7545-45b5-99b1-712b1a2588b2\">\n",
              "    <div class=\"colab-df-container\">\n",
              "      <div>\n",
              "<style scoped>\n",
              "    .dataframe tbody tr th:only-of-type {\n",
              "        vertical-align: middle;\n",
              "    }\n",
              "\n",
              "    .dataframe tbody tr th {\n",
              "        vertical-align: top;\n",
              "    }\n",
              "\n",
              "    .dataframe thead th {\n",
              "        text-align: right;\n",
              "    }\n",
              "</style>\n",
              "<table border=\"1\" class=\"dataframe\">\n",
              "  <thead>\n",
              "    <tr style=\"text-align: right;\">\n",
              "      <th>financial_condition</th>\n",
              "      <th>Mid</th>\n",
              "      <th>Poor</th>\n",
              "      <th>Rich</th>\n",
              "      <th>total</th>\n",
              "    </tr>\n",
              "    <tr>\n",
              "      <th>gender</th>\n",
              "      <th></th>\n",
              "      <th></th>\n",
              "      <th></th>\n",
              "      <th></th>\n",
              "    </tr>\n",
              "  </thead>\n",
              "  <tbody>\n",
              "    <tr>\n",
              "      <th>Boy</th>\n",
              "      <td>96</td>\n",
              "      <td>26</td>\n",
              "      <td>10</td>\n",
              "      <td>132</td>\n",
              "    </tr>\n",
              "    <tr>\n",
              "      <th>Girl</th>\n",
              "      <td>79</td>\n",
              "      <td>23</td>\n",
              "      <td>7</td>\n",
              "      <td>109</td>\n",
              "    </tr>\n",
              "  </tbody>\n",
              "</table>\n",
              "</div>\n",
              "      <button class=\"colab-df-convert\" onclick=\"convertToInteractive('df-0425db5b-7545-45b5-99b1-712b1a2588b2')\"\n",
              "              title=\"Convert this dataframe to an interactive table.\"\n",
              "              style=\"display:none;\">\n",
              "        \n",
              "  <svg xmlns=\"http://www.w3.org/2000/svg\" height=\"24px\"viewBox=\"0 0 24 24\"\n",
              "       width=\"24px\">\n",
              "    <path d=\"M0 0h24v24H0V0z\" fill=\"none\"/>\n",
              "    <path d=\"M18.56 5.44l.94 2.06.94-2.06 2.06-.94-2.06-.94-.94-2.06-.94 2.06-2.06.94zm-11 1L8.5 8.5l.94-2.06 2.06-.94-2.06-.94L8.5 2.5l-.94 2.06-2.06.94zm10 10l.94 2.06.94-2.06 2.06-.94-2.06-.94-.94-2.06-.94 2.06-2.06.94z\"/><path d=\"M17.41 7.96l-1.37-1.37c-.4-.4-.92-.59-1.43-.59-.52 0-1.04.2-1.43.59L10.3 9.45l-7.72 7.72c-.78.78-.78 2.05 0 2.83L4 21.41c.39.39.9.59 1.41.59.51 0 1.02-.2 1.41-.59l7.78-7.78 2.81-2.81c.8-.78.8-2.07 0-2.86zM5.41 20L4 18.59l7.72-7.72 1.47 1.35L5.41 20z\"/>\n",
              "  </svg>\n",
              "      </button>\n",
              "      \n",
              "  <style>\n",
              "    .colab-df-container {\n",
              "      display:flex;\n",
              "      flex-wrap:wrap;\n",
              "      gap: 12px;\n",
              "    }\n",
              "\n",
              "    .colab-df-convert {\n",
              "      background-color: #E8F0FE;\n",
              "      border: none;\n",
              "      border-radius: 50%;\n",
              "      cursor: pointer;\n",
              "      display: none;\n",
              "      fill: #1967D2;\n",
              "      height: 32px;\n",
              "      padding: 0 0 0 0;\n",
              "      width: 32px;\n",
              "    }\n",
              "\n",
              "    .colab-df-convert:hover {\n",
              "      background-color: #E2EBFA;\n",
              "      box-shadow: 0px 1px 2px rgba(60, 64, 67, 0.3), 0px 1px 3px 1px rgba(60, 64, 67, 0.15);\n",
              "      fill: #174EA6;\n",
              "    }\n",
              "\n",
              "    [theme=dark] .colab-df-convert {\n",
              "      background-color: #3B4455;\n",
              "      fill: #D2E3FC;\n",
              "    }\n",
              "\n",
              "    [theme=dark] .colab-df-convert:hover {\n",
              "      background-color: #434B5C;\n",
              "      box-shadow: 0px 1px 3px 1px rgba(0, 0, 0, 0.15);\n",
              "      filter: drop-shadow(0px 1px 2px rgba(0, 0, 0, 0.3));\n",
              "      fill: #FFFFFF;\n",
              "    }\n",
              "  </style>\n",
              "\n",
              "      <script>\n",
              "        const buttonEl =\n",
              "          document.querySelector('#df-0425db5b-7545-45b5-99b1-712b1a2588b2 button.colab-df-convert');\n",
              "        buttonEl.style.display =\n",
              "          google.colab.kernel.accessAllowed ? 'block' : 'none';\n",
              "\n",
              "        async function convertToInteractive(key) {\n",
              "          const element = document.querySelector('#df-0425db5b-7545-45b5-99b1-712b1a2588b2');\n",
              "          const dataTable =\n",
              "            await google.colab.kernel.invokeFunction('convertToInteractive',\n",
              "                                                     [key], {});\n",
              "          if (!dataTable) return;\n",
              "\n",
              "          const docLinkHtml = 'Like what you see? Visit the ' +\n",
              "            '<a target=\"_blank\" href=https://colab.research.google.com/notebooks/data_table.ipynb>data table notebook</a>'\n",
              "            + ' to learn more about interactive tables.';\n",
              "          element.innerHTML = '';\n",
              "          dataTable['output_type'] = 'display_data';\n",
              "          await google.colab.output.renderOutput(dataTable, element);\n",
              "          const docLink = document.createElement('div');\n",
              "          docLink.innerHTML = docLinkHtml;\n",
              "          element.appendChild(docLink);\n",
              "        }\n",
              "      </script>\n",
              "    </div>\n",
              "  </div>\n",
              "  "
            ]
          },
          "metadata": {},
          "execution_count": 56
        }
      ]
    },
    {
      "cell_type": "code",
      "source": [
        "table.loc['Total'] = [table.Mid.sum(), table.Poor.sum(), table.Rich.sum(), table.total.sum()]"
      ],
      "metadata": {
        "id": "g1bm1-YU1rR0"
      },
      "execution_count": null,
      "outputs": []
    },
    {
      "cell_type": "code",
      "source": [
        "#computing totals of columns\n",
        "table"
      ],
      "metadata": {
        "id": "r3J7fK8c3Lfq",
        "colab": {
          "base_uri": "https://localhost:8080/",
          "height": 175
        },
        "outputId": "6add811a-2d78-4155-d47b-b9caa4d8772d"
      },
      "execution_count": null,
      "outputs": [
        {
          "output_type": "execute_result",
          "data": {
            "text/plain": [
              "financial_condition  Mid  Poor  Rich  total\n",
              "gender                                     \n",
              "Boy                   96    26    10    132\n",
              "Girl                  79    23     7    109\n",
              "Total                175    49    17    241"
            ],
            "text/html": [
              "\n",
              "  <div id=\"df-dddd6ea7-8162-4e8c-90fa-55f588eb5a13\">\n",
              "    <div class=\"colab-df-container\">\n",
              "      <div>\n",
              "<style scoped>\n",
              "    .dataframe tbody tr th:only-of-type {\n",
              "        vertical-align: middle;\n",
              "    }\n",
              "\n",
              "    .dataframe tbody tr th {\n",
              "        vertical-align: top;\n",
              "    }\n",
              "\n",
              "    .dataframe thead th {\n",
              "        text-align: right;\n",
              "    }\n",
              "</style>\n",
              "<table border=\"1\" class=\"dataframe\">\n",
              "  <thead>\n",
              "    <tr style=\"text-align: right;\">\n",
              "      <th>financial_condition</th>\n",
              "      <th>Mid</th>\n",
              "      <th>Poor</th>\n",
              "      <th>Rich</th>\n",
              "      <th>total</th>\n",
              "    </tr>\n",
              "    <tr>\n",
              "      <th>gender</th>\n",
              "      <th></th>\n",
              "      <th></th>\n",
              "      <th></th>\n",
              "      <th></th>\n",
              "    </tr>\n",
              "  </thead>\n",
              "  <tbody>\n",
              "    <tr>\n",
              "      <th>Boy</th>\n",
              "      <td>96</td>\n",
              "      <td>26</td>\n",
              "      <td>10</td>\n",
              "      <td>132</td>\n",
              "    </tr>\n",
              "    <tr>\n",
              "      <th>Girl</th>\n",
              "      <td>79</td>\n",
              "      <td>23</td>\n",
              "      <td>7</td>\n",
              "      <td>109</td>\n",
              "    </tr>\n",
              "    <tr>\n",
              "      <th>Total</th>\n",
              "      <td>175</td>\n",
              "      <td>49</td>\n",
              "      <td>17</td>\n",
              "      <td>241</td>\n",
              "    </tr>\n",
              "  </tbody>\n",
              "</table>\n",
              "</div>\n",
              "      <button class=\"colab-df-convert\" onclick=\"convertToInteractive('df-dddd6ea7-8162-4e8c-90fa-55f588eb5a13')\"\n",
              "              title=\"Convert this dataframe to an interactive table.\"\n",
              "              style=\"display:none;\">\n",
              "        \n",
              "  <svg xmlns=\"http://www.w3.org/2000/svg\" height=\"24px\"viewBox=\"0 0 24 24\"\n",
              "       width=\"24px\">\n",
              "    <path d=\"M0 0h24v24H0V0z\" fill=\"none\"/>\n",
              "    <path d=\"M18.56 5.44l.94 2.06.94-2.06 2.06-.94-2.06-.94-.94-2.06-.94 2.06-2.06.94zm-11 1L8.5 8.5l.94-2.06 2.06-.94-2.06-.94L8.5 2.5l-.94 2.06-2.06.94zm10 10l.94 2.06.94-2.06 2.06-.94-2.06-.94-.94-2.06-.94 2.06-2.06.94z\"/><path d=\"M17.41 7.96l-1.37-1.37c-.4-.4-.92-.59-1.43-.59-.52 0-1.04.2-1.43.59L10.3 9.45l-7.72 7.72c-.78.78-.78 2.05 0 2.83L4 21.41c.39.39.9.59 1.41.59.51 0 1.02-.2 1.41-.59l7.78-7.78 2.81-2.81c.8-.78.8-2.07 0-2.86zM5.41 20L4 18.59l7.72-7.72 1.47 1.35L5.41 20z\"/>\n",
              "  </svg>\n",
              "      </button>\n",
              "      \n",
              "  <style>\n",
              "    .colab-df-container {\n",
              "      display:flex;\n",
              "      flex-wrap:wrap;\n",
              "      gap: 12px;\n",
              "    }\n",
              "\n",
              "    .colab-df-convert {\n",
              "      background-color: #E8F0FE;\n",
              "      border: none;\n",
              "      border-radius: 50%;\n",
              "      cursor: pointer;\n",
              "      display: none;\n",
              "      fill: #1967D2;\n",
              "      height: 32px;\n",
              "      padding: 0 0 0 0;\n",
              "      width: 32px;\n",
              "    }\n",
              "\n",
              "    .colab-df-convert:hover {\n",
              "      background-color: #E2EBFA;\n",
              "      box-shadow: 0px 1px 2px rgba(60, 64, 67, 0.3), 0px 1px 3px 1px rgba(60, 64, 67, 0.15);\n",
              "      fill: #174EA6;\n",
              "    }\n",
              "\n",
              "    [theme=dark] .colab-df-convert {\n",
              "      background-color: #3B4455;\n",
              "      fill: #D2E3FC;\n",
              "    }\n",
              "\n",
              "    [theme=dark] .colab-df-convert:hover {\n",
              "      background-color: #434B5C;\n",
              "      box-shadow: 0px 1px 3px 1px rgba(0, 0, 0, 0.15);\n",
              "      filter: drop-shadow(0px 1px 2px rgba(0, 0, 0, 0.3));\n",
              "      fill: #FFFFFF;\n",
              "    }\n",
              "  </style>\n",
              "\n",
              "      <script>\n",
              "        const buttonEl =\n",
              "          document.querySelector('#df-dddd6ea7-8162-4e8c-90fa-55f588eb5a13 button.colab-df-convert');\n",
              "        buttonEl.style.display =\n",
              "          google.colab.kernel.accessAllowed ? 'block' : 'none';\n",
              "\n",
              "        async function convertToInteractive(key) {\n",
              "          const element = document.querySelector('#df-dddd6ea7-8162-4e8c-90fa-55f588eb5a13');\n",
              "          const dataTable =\n",
              "            await google.colab.kernel.invokeFunction('convertToInteractive',\n",
              "                                                     [key], {});\n",
              "          if (!dataTable) return;\n",
              "\n",
              "          const docLinkHtml = 'Like what you see? Visit the ' +\n",
              "            '<a target=\"_blank\" href=https://colab.research.google.com/notebooks/data_table.ipynb>data table notebook</a>'\n",
              "            + ' to learn more about interactive tables.';\n",
              "          element.innerHTML = '';\n",
              "          dataTable['output_type'] = 'display_data';\n",
              "          await google.colab.output.renderOutput(dataTable, element);\n",
              "          const docLink = document.createElement('div');\n",
              "          docLink.innerHTML = docLinkHtml;\n",
              "          element.appendChild(docLink);\n",
              "        }\n",
              "      </script>\n",
              "    </div>\n",
              "  </div>\n",
              "  "
            ]
          },
          "metadata": {},
          "execution_count": 58
        }
      ]
    },
    {
      "cell_type": "markdown",
      "source": [
        "The first step is to compute the expected frequency for each cell (except totals) based on the assumption that there is no relationship.\n",
        "\n",
        "The expected frequency for a cell in the ith row and the jth column is equal to:"
      ],
      "metadata": {
        "id": "_p016LPnC0Ae"
      }
    },
    {
      "cell_type": "markdown",
      "source": [
        "![image.png](data:image/png;base64,iVBORw0KGgoAAAANSUhEUgAAAGAAAAA4CAIAAACNJ2r1AAAEjElEQVR4Ae1b7ZGzOAx2bq4BUwJbgrcEtgQogS2BlAAlQAlQApSAS8Al4BJ886IbjQeIrSTwJmTwjx0hCVt6LMkfZC/GGHa22wj8c1t0Sv4gcALkiYMToBMgDwIe8RlBJ0AeBDzifz3yNxBrrX9+fm4Zkk4NpU3TFEWBjzMiz/MoimZMz6N5+1aWZZqm4zgaY8qyZIzleW6MGcdRCNG2re1BHMcgNcakacoYA4W+7znntiaRZkS9F6qlaToMAxgQxzH6bIxBLNC8NE2RDsOQcw7IAl4oohMHAAidGceRcx6GIfqMhK0DdNu2jLE4jpci5FCII61iUkqttRCCcw6FAwmsI8iRUjLG7IqDIlSmEAcDaOazw8Ou6xhjQgiHDklECbM30YFwwHrktopzLoRw61Ckh4kgrXXXdUKIMAy9M980DSSjV9OrcBiAIGXsmuLwbVmAHMpu0cEAItaUu9B0A3SYZR6gWa7rxph2alhQhmFgjIVhiJwl0fd9WZZL/pJzgAjqui5JEsiapmmUUrM555wjs6oqPJdUVaW1ninf+3h5/ytXcFJrzTmHv/aORikFxRtCTCmFUq31akWfveKGjASQlLIoCpglPjWcsSzLYPvvHmZXaRAEbdsSyxNYEgRBXdekkr/MulVOXdewSUPpOI5xHPd9j5yXEA+cQsdxtM8rbrOpNQji3IYcdmKrMbxrvMw6l1JmWTZjuh+7roNzrFsNpFSAZgsnpFiWZZjwlMH20JFTw5SnDKGUsmfa84o7wFBqH6PHcbRvFVDnVcTq2u8wJooiemUgRVDXdbB8FEXx+/v79fV1V0X0TNHTYnoUV1WVJEkYhnfY70AaRZDkZVkOw1DXNb3CYQ9L4paJ9g3O8q3nOcSzLg5E2kmDMxjJb5Vf6MlOhB8g2LlvcnVg+0CMoKfzj9SBbdiM9n/VgPVruRu8Xq9pmj68zPd9T7H95Rt9f5EGgGwgtNbX61UphUwpJagtfa6q6pZoqfyGHE8ENU0D7jVNA8dF2HdoreELDLrk2InQVxns7X0ID0BCCKhBjDFY6cF0+xyolJJSrtYUwBQD7X3cvsOSWU167JFzPvuAB/0Mw2B/mXqs89e+5a9BXrAd95sQWZ+cYl50GGOO4+J9px7KYGs6SZLcqoBhGMI9xNp7JN42EQSf9Bhjl8ulqiocGa6y8HEPQkqplKrruu/7uq6llJzzfmpiak8O6inSlN7zPGeMQR7leQ4EXgDecW6mDLbQkVLmeQ7rACy4OGIURRtk97YlEE/J8dSIF+PP2IAHIGMM7GbRBlv08BCkK9fFtPkZcMG2wQT6h/pfQ2v9/f2ttYalk/yeR3GDGrQ6Alxdr4p2YkIx2iatLBP3Asga4i+Rjt3GMxZ8DkBN09B/+0GHbK8aRLdgE02tdRAEQgjiJQF90A+JoJ3C53P+FQEK0OqBmR4sq5obbBRX+/1rTKVUNTXGWNd1nHPcKG5iw+FrkJ4afrbHPf0m6Pw5PL38TnMrT3bq50OK9E7ofE6RPgHaDwFPz2eKnQB5EPCIzwg6AfIg4BH/BxnFu8HbnMBxAAAAAElFTkSuQmCC)"
      ],
      "metadata": {
        "id": "3QoIzC4zC0Af"
      }
    },
    {
      "cell_type": "markdown",
      "source": [
        "where Ei,j is the expected frequency for cell i,j, Ti is the total for the ith row, Tj is the total for the jth column, and T is the total number of observations"
      ],
      "metadata": {
        "id": "XIKSGA8lC0Ah"
      }
    },
    {
      "cell_type": "code",
      "source": [
        "#Expected frequencies\n",
        "\n",
        "#creating duplicate table that will have values replaced with expected frequencies\n",
        "expected_freq = table.copy().drop(columns = ['total'], index=['Total'])"
      ],
      "metadata": {
        "id": "px1J1XaGCJ8c"
      },
      "execution_count": null,
      "outputs": []
    },
    {
      "cell_type": "code",
      "source": [
        "#creating lists of genders and financial levels\n",
        "genders = list(expected_freq.index)\n",
        "fin_lev = list(expected_freq.columns)\n"
      ],
      "metadata": {
        "id": "iLY6Jw_rLk4R"
      },
      "execution_count": null,
      "outputs": []
    },
    {
      "cell_type": "code",
      "source": [
        "#creating for loop that will replace table values with expected frequencies\n",
        "for g in genders:\n",
        "  for l in fin_lev:\n",
        "    row_tot = 0\n",
        "    col_tot = 0\n",
        "    if g == 'Boy':\n",
        "      row_tot = 132\n",
        "    else:\n",
        "      row_tot = 109\n",
        "    if l == 'Mid':\n",
        "      col_tot = 175\n",
        "    elif l == 'Poor':\n",
        "      col_tot = 49\n",
        "    elif l == 'Rich':\n",
        "      col_tot = 17\n",
        "    expected_freq.loc[g, l] = (row_tot * col_tot)/241"
      ],
      "metadata": {
        "id": "LINrAetcMJlC"
      },
      "execution_count": null,
      "outputs": []
    },
    {
      "cell_type": "code",
      "source": [
        "expected_freq"
      ],
      "metadata": {
        "id": "-FgapyZsMwB0",
        "colab": {
          "base_uri": "https://localhost:8080/",
          "height": 144
        },
        "outputId": "713a4b7c-2895-4f51-8a77-4ac86f40a8a0"
      },
      "execution_count": null,
      "outputs": [
        {
          "output_type": "execute_result",
          "data": {
            "text/plain": [
              "financial_condition        Mid       Poor      Rich\n",
              "gender                                             \n",
              "Boy                  95.850622  26.838174  9.311203\n",
              "Girl                 79.149378  22.161826  7.688797"
            ],
            "text/html": [
              "\n",
              "  <div id=\"df-07acb821-7149-4fe8-80d1-fc6f50511efb\">\n",
              "    <div class=\"colab-df-container\">\n",
              "      <div>\n",
              "<style scoped>\n",
              "    .dataframe tbody tr th:only-of-type {\n",
              "        vertical-align: middle;\n",
              "    }\n",
              "\n",
              "    .dataframe tbody tr th {\n",
              "        vertical-align: top;\n",
              "    }\n",
              "\n",
              "    .dataframe thead th {\n",
              "        text-align: right;\n",
              "    }\n",
              "</style>\n",
              "<table border=\"1\" class=\"dataframe\">\n",
              "  <thead>\n",
              "    <tr style=\"text-align: right;\">\n",
              "      <th>financial_condition</th>\n",
              "      <th>Mid</th>\n",
              "      <th>Poor</th>\n",
              "      <th>Rich</th>\n",
              "    </tr>\n",
              "    <tr>\n",
              "      <th>gender</th>\n",
              "      <th></th>\n",
              "      <th></th>\n",
              "      <th></th>\n",
              "    </tr>\n",
              "  </thead>\n",
              "  <tbody>\n",
              "    <tr>\n",
              "      <th>Boy</th>\n",
              "      <td>95.850622</td>\n",
              "      <td>26.838174</td>\n",
              "      <td>9.311203</td>\n",
              "    </tr>\n",
              "    <tr>\n",
              "      <th>Girl</th>\n",
              "      <td>79.149378</td>\n",
              "      <td>22.161826</td>\n",
              "      <td>7.688797</td>\n",
              "    </tr>\n",
              "  </tbody>\n",
              "</table>\n",
              "</div>\n",
              "      <button class=\"colab-df-convert\" onclick=\"convertToInteractive('df-07acb821-7149-4fe8-80d1-fc6f50511efb')\"\n",
              "              title=\"Convert this dataframe to an interactive table.\"\n",
              "              style=\"display:none;\">\n",
              "        \n",
              "  <svg xmlns=\"http://www.w3.org/2000/svg\" height=\"24px\"viewBox=\"0 0 24 24\"\n",
              "       width=\"24px\">\n",
              "    <path d=\"M0 0h24v24H0V0z\" fill=\"none\"/>\n",
              "    <path d=\"M18.56 5.44l.94 2.06.94-2.06 2.06-.94-2.06-.94-.94-2.06-.94 2.06-2.06.94zm-11 1L8.5 8.5l.94-2.06 2.06-.94-2.06-.94L8.5 2.5l-.94 2.06-2.06.94zm10 10l.94 2.06.94-2.06 2.06-.94-2.06-.94-.94-2.06-.94 2.06-2.06.94z\"/><path d=\"M17.41 7.96l-1.37-1.37c-.4-.4-.92-.59-1.43-.59-.52 0-1.04.2-1.43.59L10.3 9.45l-7.72 7.72c-.78.78-.78 2.05 0 2.83L4 21.41c.39.39.9.59 1.41.59.51 0 1.02-.2 1.41-.59l7.78-7.78 2.81-2.81c.8-.78.8-2.07 0-2.86zM5.41 20L4 18.59l7.72-7.72 1.47 1.35L5.41 20z\"/>\n",
              "  </svg>\n",
              "      </button>\n",
              "      \n",
              "  <style>\n",
              "    .colab-df-container {\n",
              "      display:flex;\n",
              "      flex-wrap:wrap;\n",
              "      gap: 12px;\n",
              "    }\n",
              "\n",
              "    .colab-df-convert {\n",
              "      background-color: #E8F0FE;\n",
              "      border: none;\n",
              "      border-radius: 50%;\n",
              "      cursor: pointer;\n",
              "      display: none;\n",
              "      fill: #1967D2;\n",
              "      height: 32px;\n",
              "      padding: 0 0 0 0;\n",
              "      width: 32px;\n",
              "    }\n",
              "\n",
              "    .colab-df-convert:hover {\n",
              "      background-color: #E2EBFA;\n",
              "      box-shadow: 0px 1px 2px rgba(60, 64, 67, 0.3), 0px 1px 3px 1px rgba(60, 64, 67, 0.15);\n",
              "      fill: #174EA6;\n",
              "    }\n",
              "\n",
              "    [theme=dark] .colab-df-convert {\n",
              "      background-color: #3B4455;\n",
              "      fill: #D2E3FC;\n",
              "    }\n",
              "\n",
              "    [theme=dark] .colab-df-convert:hover {\n",
              "      background-color: #434B5C;\n",
              "      box-shadow: 0px 1px 3px 1px rgba(0, 0, 0, 0.15);\n",
              "      filter: drop-shadow(0px 1px 2px rgba(0, 0, 0, 0.3));\n",
              "      fill: #FFFFFF;\n",
              "    }\n",
              "  </style>\n",
              "\n",
              "      <script>\n",
              "        const buttonEl =\n",
              "          document.querySelector('#df-07acb821-7149-4fe8-80d1-fc6f50511efb button.colab-df-convert');\n",
              "        buttonEl.style.display =\n",
              "          google.colab.kernel.accessAllowed ? 'block' : 'none';\n",
              "\n",
              "        async function convertToInteractive(key) {\n",
              "          const element = document.querySelector('#df-07acb821-7149-4fe8-80d1-fc6f50511efb');\n",
              "          const dataTable =\n",
              "            await google.colab.kernel.invokeFunction('convertToInteractive',\n",
              "                                                     [key], {});\n",
              "          if (!dataTable) return;\n",
              "\n",
              "          const docLinkHtml = 'Like what you see? Visit the ' +\n",
              "            '<a target=\"_blank\" href=https://colab.research.google.com/notebooks/data_table.ipynb>data table notebook</a>'\n",
              "            + ' to learn more about interactive tables.';\n",
              "          element.innerHTML = '';\n",
              "          dataTable['output_type'] = 'display_data';\n",
              "          await google.colab.output.renderOutput(dataTable, element);\n",
              "          const docLink = document.createElement('div');\n",
              "          docLink.innerHTML = docLinkHtml;\n",
              "          element.appendChild(docLink);\n",
              "        }\n",
              "      </script>\n",
              "    </div>\n",
              "  </div>\n",
              "  "
            ]
          },
          "metadata": {},
          "execution_count": 62
        }
      ]
    },
    {
      "cell_type": "markdown",
      "source": [
        "Formula for calculating the statistic:\n",
        "\n",
        "![image.png](data:image/png;base64,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)"
      ],
      "metadata": {
        "id": "sxMkFh29FHVu"
      }
    },
    {
      "cell_type": "code",
      "source": [
        "#getting the values of (observed value - expected)/expected for each cell\n",
        "one = (table.loc['Boy', 'Mid'] - expected_freq.loc['Boy', 'Mid'])**2/expected_freq.loc['Boy', 'Mid']\n",
        "two = (table.loc['Boy', 'Poor'] - expected_freq.loc['Boy', 'Poor'])**2/expected_freq.loc['Boy', 'Poor']\n",
        "three = (table.loc['Boy', 'Rich']  - expected_freq.loc['Boy', 'Rich'] )**2/expected_freq.loc['Boy', 'Rich']\n",
        "\n",
        "four = (table.loc['Girl', 'Mid'] - expected_freq.loc['Girl', 'Mid'])**2/expected_freq.loc['Girl', 'Mid']\n",
        "five = (table.loc['Girl', 'Poor'] - expected_freq.loc['Girl', 'Poor'] )**2/expected_freq.loc['Girl', 'Poor']\n",
        "six = (table.loc['Girl', 'Rich']  - expected_freq.loc['Girl', 'Rich'] )**2/expected_freq.loc['Girl', 'Rich']"
      ],
      "metadata": {
        "id": "IkbeMTAVBjWy"
      },
      "execution_count": null,
      "outputs": []
    },
    {
      "cell_type": "code",
      "source": [
        "#getting the sum of the above to get the chi square statistic\n",
        "chi_sq = one+two+three+four+five+six\n",
        "chi_sq"
      ],
      "metadata": {
        "id": "a6Nu6zDHHT6c",
        "colab": {
          "base_uri": "https://localhost:8080/"
        },
        "outputId": "262cbb3c-dbaa-4a01-f264-370cea573dd2"
      },
      "execution_count": null,
      "outputs": [
        {
          "output_type": "execute_result",
          "data": {
            "text/plain": [
              "0.17105098586557227"
            ]
          },
          "metadata": {},
          "execution_count": 64
        }
      ]
    },
    {
      "cell_type": "code",
      "source": [
        "#degrees of freedom is equal to (r-1)(c-1),\n",
        "(2-1) * (3-1)"
      ],
      "metadata": {
        "id": "aY4NuQwDH6BI",
        "colab": {
          "base_uri": "https://localhost:8080/"
        },
        "outputId": "c0ca3115-6f98-415c-881b-d2a4e3ab839a"
      },
      "execution_count": null,
      "outputs": [
        {
          "output_type": "execute_result",
          "data": {
            "text/plain": [
              "2"
            ]
          },
          "metadata": {},
          "execution_count": 65
        }
      ]
    },
    {
      "cell_type": "markdown",
      "source": [
        "##### P-value calculation"
      ],
      "metadata": {
        "id": "qQverHh8TOkC"
      }
    },
    {
      "cell_type": "markdown",
      "source": [
        "Using this chi squared statistic p value calculator -[here](https://www.mathsisfun.com/data//chi-square-calculator.html):\n",
        "\n",
        "The p value, given our statistic (0.171) and 2 degrees of freedom,  is 0.918"
      ],
      "metadata": {
        "id": "Knl1W0NEIhvJ"
      }
    },
    {
      "cell_type": "markdown",
      "source": [
        "##### Using chi2_contingency"
      ],
      "metadata": {
        "id": "XQsUtudEc8EP"
      }
    },
    {
      "cell_type": "code",
      "source": [
        "from scipy.stats import chi2_contingency"
      ],
      "metadata": {
        "id": "WuJGmdZn7dSj"
      },
      "execution_count": null,
      "outputs": []
    },
    {
      "cell_type": "code",
      "source": [
        "stat, p, dof, expected = chi2_contingency(pd.crosstab(index=sample['gender'], columns=sample['financial_condition']))\n",
        "alpha = 0.05\n",
        "print(f'chi squared statistic is {round((stat), 3)}')\n",
        "print(f'p level is {round((p), 3)}')\n",
        "if p <= alpha:\n",
        "  print('Dependent (reject H0)')\n",
        "else:\n",
        "  print('Independent (H0 holds true)')"
      ],
      "metadata": {
        "colab": {
          "base_uri": "https://localhost:8080/"
        },
        "id": "UjIxLlD4cGwb",
        "outputId": "4a8daf3f-68d6-420b-ac75-c8e654906d61"
      },
      "execution_count": null,
      "outputs": [
        {
          "output_type": "stream",
          "name": "stdout",
          "text": [
            "chi squared statistic is 0.171\n",
            "p level is 0.918\n",
            "Independent (H0 holds true)\n"
          ]
        }
      ]
    },
    {
      "cell_type": "markdown",
      "source": [
        "#### Interpretation"
      ],
      "metadata": {
        "id": "On37p4iqTwEP"
      }
    },
    {
      "cell_type": "markdown",
      "source": [
        "Given that our p value is 0.918, which is much higher than our significance level of 0.05, there is very strong evidence for accepting our null hypothesis. Therefore, the conclusion is that there is no significant relationship between the gender of the student and their financial condition (a=0.05).\n"
      ],
      "metadata": {
        "id": "6jJ2zJ2iT60n"
      }
    },
    {
      "cell_type": "markdown",
      "source": [
        "## 7.0 Conclusion and Recommendations"
      ],
      "metadata": {
        "id": "oDcxTZNq6NNg"
      }
    },
    {
      "cell_type": "markdown",
      "source": [
        "### Conclusion"
      ],
      "metadata": {
        "id": "cK5ej0wX-kPv"
      }
    },
    {
      "cell_type": "markdown",
      "source": [
        "Univariate, bivariate and multivariate analysis were carried out, providing valuable insights on the different variables in our dataset that may affect the adaptability level. These features included gender, age, education level, institution type, IT student or not, location, load-shedding, financial condition, internet type, network, device, class duration and whether the educational institution had a self learning management system. The levels of adaptability according to these different variables was visualised and interpreted. Then, using multivariate analysis, features were ranked in order of influence on a student’s adaptability to online education to aid in our aim of identifying the top features. The top 5 were determined to be:\n",
        "* Financial condition of the student.\n",
        "* Whether the student’s institution has an lms or not.\n",
        "* The student’s institution type.\n",
        "* The device the student uses.\n",
        "* The network type.\n",
        "\n",
        "Additionally, we carried out a Pearson’s chi-squared hypothesis test, and it was determined that there was no significant relationship between the gender of the student and their financial condition ( independent).\n"
      ],
      "metadata": {
        "id": "dX8If76m-ujA"
      }
    },
    {
      "cell_type": "markdown",
      "source": [
        "### Recommendations"
      ],
      "metadata": {
        "id": "FoSbv2rI-oUy"
      }
    },
    {
      "cell_type": "markdown",
      "source": [
        "Based on the top 5 features we identified, these are our recommendations:\n",
        "\n",
        "* The government’s educational sector as well as private educational institutions should firstly prioritize finding ways to aid in subsidizing educational costs more, such as by introducing more scholarships, work-study, and favorable loan opportunities to aid in alleviating financial burden.\n",
        "\n",
        "* Telecom companies should improve their coverage of higher level networks (3G, 4G) across their regions of operation. This will aid in ensuring that students in varying locations have access to reliable networks to facilitate their online learning. \n",
        "\n",
        "* Government educational institutions should receive more funding so that they can have sufficient resources to effectively adapt to changing environments. Some ways of securing more funding could be the government allocating more funds to the education sector, or finding ways to increase local and alumni donations.\n",
        "\n",
        "* Educational institutions that are now primarily online should consider providing laptops, one-off allowances or favorable loans and discounts to aid in purchasing laptops so that the online learning experience is better for more students.\n",
        "\n",
        "* Educational institutions should have their own well-functioning and structured learning management systems to better organise online learning.\n"
      ],
      "metadata": {
        "id": "mbPxO5OI6TlR"
      }
    }
  ]
}